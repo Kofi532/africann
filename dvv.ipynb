{
 "cells": [
  {
   "cell_type": "code",
   "execution_count": 59,
   "metadata": {},
   "outputs": [
    {
     "name": "stdout",
     "output_type": "stream",
     "text": [
      "Time 0: C4, E-4, A-2, A-3\n",
      "Time 1: C4, C4, A-2, A-3\n",
      "Time 2: E-4, C3\n",
      "Time 3: E-4, A-4, A-2, C4\n",
      "Time 4: E-4, A-4, C4, E-3\n",
      "Time 5: D-4, G4, B-3\n",
      "Time 6: C4, A-4, F3, A-3\n",
      "Time 7: F4, D-5, D-3, A-3\n",
      "Time 8: E-4, C5, E-3\n",
      "Time 9: E-4, B-4, E-3, G3\n",
      "Time 10: D-4, B-4, G3, A-2\n",
      "Time 11: C4, C5, A-3\n",
      "Time 12: C4, E-4, A-2, E-3\n",
      "Time 13: B-3, G4, G2, E-3\n",
      "Time 14: C4, A-2\n",
      "Time 15: D-4, E-4, B-2, E-3\n",
      "Time 16: E-4, C4, A-3, A-2\n",
      "Time 17: C5, E-3\n",
      "Time 18: E-4, A-4, C3, A-3\n",
      "Time 19: F4, D-3\n",
      "Time 20: A-4, E-4, C4, E-3\n",
      "Time 21: G4, B-3\n",
      "Time 22: D-4, B-4, E-3, G3\n",
      "Time 23: C4, A-4, A-3, A-3\n",
      "Time 24: E-4, C3\n",
      "Time 25: D-4, G4, E-3, B-3\n",
      "Time 26: C4, A-4, A-2, A-3\n",
      "Time 27: E-4, C3\n",
      "Time 28: E-4, B-4, E-3, G3\n",
      "Time 29: C5, E-4, A-3, A-3\n",
      "Time 30: D-5, G3, B-3, A-3\n",
      "Time 31: E-4, C5, C4\n",
      "Time 32: D-4\n",
      "Time 33: A-4, C5, E-3, E-4\n",
      "Time 34: G4, B-4\n",
      "Time 35: C5, E-4, C3, A-3\n",
      "Time 36: A-4\n",
      "Time 37: E-4, F4, A-3, D-3\n",
      "Time 38: D-4, B-3\n",
      "Time 39: C4\n",
      "Time 40: B-4, F4, B-2, D-4\n",
      "Time 41: A-4\n",
      "Time 42: E-4, G4, B-3, E-3\n",
      "Time 43: F4, F4, A-3\n",
      "Time 44: E-4, G4, E-3, B-3\n",
      "Time 45: D-4\n",
      "Time 46: C4, A-4, A-2, A-3\n"
     ]
    }
   ],
   "source": [
    "import re\n",
    "import music21\n",
    "\n",
    "# Load a MusicXML file (replace 'your_music_score.xml' with the actual file path)\n",
    "score = music21.converter.parse('427.xml')\n",
    "\n",
    "# Initialize a list to store notes and rests at each point in time\n",
    "notes_and_rests_by_time = []\n",
    "notes_and_rests_by_time_ = []\n",
    "\n",
    "\n",
    "# Get all the notes, chords, and rests from the score\n",
    "all_notes = score.flat.getElementsByClass(music21.note.GeneralNote)\n",
    "\n",
    "# Create a dictionary to group elements by their starting offset\n",
    "elements_by_offset = {}\n",
    "\n",
    "# Iterate through the notes, chords, and rests and group them by offset\n",
    "for element in all_notes:\n",
    "    offset = element.offset\n",
    "    if offset not in elements_by_offset:\n",
    "        elements_by_offset[offset] = []\n",
    "    elements_by_offset[offset].append(element)\n",
    "\n",
    "# Sort the offsets in ascending order\n",
    "sorted_offsets = sorted(elements_by_offset.keys())\n",
    "\n",
    "notss = []\n",
    "\n",
    "# Iterate through the sorted offsets and collect notes and rests at each point in time\n",
    "for offset in sorted_offsets:\n",
    "    elements = elements_by_offset[offset]\n",
    "    notes_and_rests = []\n",
    "    nots=[]\n",
    "\n",
    "    for element in elements:\n",
    "        if isinstance(element, music21.note.Note):\n",
    "            pitch = element.pitch\n",
    "            parts = re.split(r'(\\d+)', str(pitch))\n",
    "            modified_item = ''.join(parts)\n",
    "            pitch = modified_item\n",
    "            notes_and_rests.append(f\"{pitch}\") # {element.duration.quarterLength}\n",
    "            nots.append(f\"{pitch} {element.duration.quarterLength}\")\n",
    "\n",
    "\n",
    "        elif isinstance(element, music21.chord.Chord):\n",
    "            for chord_note in element:\n",
    "                chord_pitch = chord_note.pitch\n",
    "                parts = re.split(r'(\\d+)', str(chord_pitch))\n",
    "                modified_item = ''.join(parts)\n",
    "                chord_pitch = modified_item\n",
    "                notes_and_rests.append(f\"{chord_pitch}\") # {chord_note.duration.quarterLength}\n",
    "                nots.append(f\"{chord_pitch} {chord_note.duration.quarterLength}\")\n",
    "\n",
    "        elif isinstance(element, music21.note.Rest):\n",
    "            pass\n",
    "            # notes_and_rests.append(f\"Rest Duration: {element.duration.quarterLength}\")\n",
    "\n",
    "    notes_and_rests_by_time.append(notes_and_rests)\n",
    "    notes_and_rests_by_time_.append(nots)\n",
    "    \n",
    "\n",
    "# Print the notes and rests grouped by time\n",
    "for i, notes_and_rests in enumerate(notes_and_rests_by_time):\n",
    "    print(f\"Time {i}: {', '.join(notes_and_rests)}\")\n"
   ]
  },
  {
   "cell_type": "code",
   "execution_count": 60,
   "metadata": {},
   "outputs": [
    {
     "name": "stdout",
     "output_type": "stream",
     "text": [
      "[['C4', 'E-4', 'A-2', 'A-3'], ['C4', 'C4', 'A-2', 'A-3'], ['E-4', 'C3'], ['E-4', 'A-4', 'A-2', 'C4'], ['E-4', 'A-4', 'C4', 'E-3'], ['D-4', 'G4', 'B-3'], ['C4', 'A-4', 'F3', 'A-3'], ['F4', 'D-5', 'D-3', 'A-3'], ['E-4', 'C5', 'E-3'], ['E-4', 'B-4', 'E-3', 'G3'], ['D-4', 'B-4', 'G3', 'A-2'], ['C4', 'C5', 'A-3'], ['C4', 'E-4', 'A-2', 'E-3'], ['B-3', 'G4', 'G2', 'E-3'], ['C4', 'A-2'], ['D-4', 'E-4', 'B-2', 'E-3'], ['E-4', 'C4', 'A-3', 'A-2'], ['C5', 'E-3'], ['E-4', 'A-4', 'C3', 'A-3'], ['F4', 'D-3'], ['A-4', 'E-4', 'C4', 'E-3'], ['G4', 'B-3'], ['D-4', 'B-4', 'E-3', 'G3'], ['C4', 'A-4', 'A-3', 'A-3'], ['E-4', 'C3'], ['D-4', 'G4', 'E-3', 'B-3'], ['C4', 'A-4', 'A-2', 'A-3'], ['E-4', 'C3'], ['E-4', 'B-4', 'E-3', 'G3'], ['C5', 'E-4', 'A-3', 'A-3'], ['D-5', 'G3', 'B-3', 'A-3'], ['E-4', 'C5', 'C4'], ['D-4'], ['A-4', 'C5', 'E-3', 'E-4'], ['G4', 'B-4'], ['C5', 'E-4', 'C3', 'A-3'], ['A-4'], ['E-4', 'F4', 'A-3', 'D-3'], ['D-4', 'B-3'], ['C4'], ['B-4', 'F4', 'B-2', 'D-4'], ['A-4'], ['E-4', 'G4', 'B-3', 'E-3'], ['F4', 'F4', 'A-3'], ['E-4', 'G4', 'E-3', 'B-3'], ['D-4'], ['C4', 'A-4', 'A-2', 'A-3']]\n",
      "[['C4 1.0', 'E-4 1.0', 'A-2 1.0', 'A-3 1.0'], ['C4 1.0', 'C4 2.0', 'A-2 1.0', 'A-3 2.0'], ['E-4 1.0', 'C3 1.0'], ['E-4 1.0', 'A-4 1.0', 'A-2 1.0', 'C4 1.0'], ['E-4 1.0', 'A-4 1.0', 'C4 1.0', 'E-3 2.0'], ['D-4 1.0', 'G4 1.0', 'B-3 1.0'], ['C4 1.0', 'A-4 1.0', 'F3 1.0', 'A-3 1.0'], ['F4 1.0', 'D-5 1.0', 'D-3 1.0', 'A-3 2.0'], ['E-4 1.0', 'C5 1.0', 'E-3 1.0'], ['E-4 1.0', 'B-4 1.0', 'E-3 1.0', 'G3 1.0'], ['D-4 1.0', 'B-4 1.0', 'G3 1.0', 'A-2 2.0'], ['C4 1.0', 'C5 1.0', 'A-3 1.0'], ['C4 1.0', 'E-4 1.0', 'A-2 1.0', 'E-3 1.0'], ['B-3 1.0', 'G4 2.0', 'G2 1.0', 'E-3 2.0'], ['C4 1.0', 'A-2 1.0'], ['D-4 1.0', 'E-4 1.0', 'B-2 1.0', 'E-3 1.0'], ['E-4 1.0', 'C4 2.0', 'A-3 1.0', 'A-2 2.0'], ['C5 1.0', 'E-3 1.0'], ['E-4 0.5', 'A-4 1.0', 'C3 0.5', 'A-3 1.0'], ['F4 0.5', 'D-3 0.5'], ['A-4 1.0', 'E-4 2.0', 'C4 1.0', 'E-3 2.0'], ['G4 1.0', 'B-3 1.0'], ['D-4 1.0', 'B-4 1.0', 'E-3 1.0', 'G3 1.0'], ['C4 1.0', 'A-4 2.0', 'A-3 1.0', 'A-3 2.0'], ['E-4 1.0', 'C3 1.0'], ['D-4 1.0', 'G4 1.0', 'E-3 1.0', 'B-3 1.0'], ['C4 1.0', 'A-4 2.0', 'A-2 1.0', 'A-3 2.0'], ['E-4 1.0', 'C3 1.0'], ['E-4 1.0', 'B-4 1.0', 'E-3 1.0', 'G3 1.0'], ['C5 1.0', 'E-4 2.0', 'A-3 1.0', 'A-3 1.0'], ['D-5 1.0', 'G3 1.0', 'B-3 1.0', 'A-3 1.0'], ['E-4 1.0', 'C5 1.0', 'C4 0.5'], ['D-4 0.5'], ['A-4 1.0', 'C5 1.0', 'E-3 2.0', 'E-4 2.0'], ['G4 1.0', 'B-4 1.0'], ['C5 0.5', 'E-4 1.0', 'C3 1.0', 'A-3 1.0'], ['A-4 0.5'], ['E-4 1.0', 'F4 2.0', 'A-3 1.0', 'D-3 2.0'], ['D-4 1.0', 'B-3 0.5'], ['C4 0.5'], ['B-4 0.5', 'F4 1.0', 'B-2 1.0', 'D-4 1.0'], ['A-4 0.5'], ['E-4 1.5', 'G4 1.5', 'B-3 1.5', 'E-3 2.0'], ['F4 0.5', 'F4 0.5', 'A-3 0.5'], ['E-4 0.5', 'G4 1.0', 'E-3 1.0', 'B-3 1.0'], ['D-4 0.5'], ['C4 2.0', 'A-4 2.0', 'A-2 2.0', 'A-3 2.0']]\n"
     ]
    }
   ],
   "source": [
    "print(notes_and_rests_by_time)\n",
    "print(notes_and_rests_by_time_)"
   ]
  },
  {
   "cell_type": "code",
   "execution_count": 61,
   "metadata": {},
   "outputs": [],
   "source": [
    "p = [['E-4 6.0'],['C4 1.0', 'E-4 6.0', 'A-2 1.0', 'A-3 3.0'], ['C4 1.0', 'C4 2.0', 'A-2 1.0', 'A-3 2.0'], ['E-4 1.0', 'C3 1.0']]\n",
    "p=notes_and_rests_by_time_\n",
    "t = []\n",
    "main = []\n",
    "data = p\n",
    "for i in p:\n",
    "    # Calculate the minimum duration in the list\n",
    "    min_duration = min(float(note.split()[1]) for note in i)\n",
    "\n",
    "    # Create a new list with equal durations\n",
    "    equal_duration_list = [f\"{note.split()[0]} {min_duration}\" for note in i]\n",
    "    t.append(equal_duration_list)\n",
    "\n",
    "    # Create a remainder list with the original durations\n",
    "    remainder = [f\"{note.split()[0]} {float(note.split()[1]) - min_duration}\" for note in i if float(note.split()[1]) > min_duration]\n",
    "    if remainder:\n",
    "        # Extract the second items from each element\n",
    "        second_items = [float(note.split()[1]) for note in remainder]\n",
    "\n",
    "        # Check if all second items are the same\n",
    "        is_same_duration = all(item == second_items[0] for item in second_items)\n",
    "\n",
    "        if is_same_duration:\n",
    "            t.append(remainder)\n",
    "        else:\n",
    "            min_duration = min(float(note.split()[1]) for note in remainder) #leevel\n",
    "            # Create a new list with equal durations\n",
    "            equal_duration_list = [f\"{note.split()[0]} {min_duration}\" for note in remainder]\n",
    "            t.append(equal_duration_list)\n",
    "            # Create a remainder list with the original durations\n",
    "            remainder = [f\"{note.split()[0]} {float(note.split()[1]) - min_duration}\" for note in remainder if float(note.split()[1]) > min_duration]\n",
    "            print(f'firstremain: {remainder}')\n",
    "            # Extract the second items from each element\n",
    "            if remainder:\n",
    "                second_items = [float(note.split()[1]) for note in remainder]\n",
    "\n",
    "                # Check if all second items are the same\n",
    "                is_same_duration = all(item == second_items[0] for item in second_items)\n",
    "\n",
    "                if is_same_duration:\n",
    "                    t.append(remainder)\n",
    "                else:\n",
    "                    min_duration = min(float(note.split()[1]) for note in remainder)\n",
    "                    # Create a new list with equal durations\n",
    "                    equal_duration_list = [f\"{note.split()[0]} {min_duration}\" for note in remainder]\n",
    "                    t.append(equal_duration_list)\n",
    "                    ##\n",
    "                    remainder = [f\"{note.split()[0]} {float(note.split()[1]) - min_duration}\" for note in remainder if float(note.split()[1]) > min_duration]\n",
    "                    # Extract the second items from each element\n",
    "                    print(f'remain: {remainder}')\n",
    "                    if remainder:\n",
    "                        second_items = [float(note.split()[1]) for note in remainder]\n",
    "\n",
    "                        # Check if all second items are the same\n",
    "                        is_same_duration = all(item == second_items[0] for item in second_items)\n",
    "\n",
    "                        if is_same_duration:\n",
    "                            print(remainder)\n",
    "                            t.append(remainder)\n",
    "\n",
    "                        else:\n",
    "                            min_duration = min(float(note.split()[1]) for note in remainder)\n",
    "                            # Create a new list with equal durations\n",
    "                            equal_duration_list = [f\"{note.split()[0]} {min_duration}\" for note in remainder]\n",
    "                            t.append(equal_duration_list)\n",
    "                            remainder = [f\"{note.split()[0]} {float(note.split()[1]) - min_duration}\" for note in remainder if float(note.split()[1]) > min_duration]\n",
    "\n",
    "                            if remainder:\n",
    "                                second_items = [float(note.split()[1]) for note in remainder]\n",
    "\n",
    "                                # Check if all second items are the same\n",
    "                                is_same_duration = all(item == second_items[0] for item in second_items)\n",
    "\n",
    "                                if is_same_duration:\n",
    "                                    t.append(remainder)\n",
    "                                else:\n",
    "                                    min_duration = min(float(note.split()[1]) for note in remainder)\n",
    "                                    # Create a new list with equal durations\n",
    "                                    equal_duration_list = [f\"{note.split()[0]} {min_duration}\" for note in remainder]\n",
    "                                    t.append(equal_duration_list)\n",
    "\n",
    "\n",
    "    # t.append(remainder)\n",
    "\n",
    "\n",
    "\n"
   ]
  },
  {
   "cell_type": "code",
   "execution_count": 62,
   "metadata": {},
   "outputs": [
    {
     "name": "stdout",
     "output_type": "stream",
     "text": [
      "[[1.0], [1.0], [1.0], [1.0], [1.0], [1.0], [1.0], [1.0], [1.0], [1.0], [1.0], [1.0], [1.0], [1.0], [1.0], [1.0], [1.0], [1.0], [1.0], [1.0], [1.0], [1.0], [1.0], [1.0], [0.5], [0.5], [0.5], [1.0], [1.0], [1.0], [1.0], [1.0], [1.0], [1.0], [1.0], [1.0], [1.0], [1.0], [1.0], [1.0], [1.0], [1.0], [0.5], [0.5], [0.5], [1.0], [1.0], [1.0], [0.5], [0.5], [0.5], [1.0], [1.0], [0.5], [0.5], [0.5], [0.5], [0.5], [0.5], [1.5], [0.5], [0.5], [0.5], [0.5], [0.5], [2.0]]\n"
     ]
    }
   ],
   "source": [
    "data = t\n",
    "\n",
    "# Find the highest value of the second item in each sublist\n",
    "max_values = [max(float(note.split()[1]) for note in sublist) for sublist in data]\n",
    "\n",
    "# Modify 'data' to contain the highest values as sublists\n",
    "durate = [[max_value] for max_value in max_values]\n",
    "\n",
    "print(durate)\n"
   ]
  },
  {
   "cell_type": "code",
   "execution_count": 73,
   "metadata": {},
   "outputs": [
    {
     "name": "stdout",
     "output_type": "stream",
     "text": [
      "[['quarter'], ['quarter'], ['quarter'], ['quarter'], ['quarter'], ['quarter'], ['quarter'], ['quarter'], ['quarter'], ['quarter'], ['quarter'], ['quarter'], ['quarter'], ['quarter'], ['quarter'], ['quarter'], ['quarter'], ['quarter'], ['quarter'], ['quarter'], ['quarter'], ['quarter'], ['quarter'], ['quarter'], ['eighth'], ['eighth'], ['eighth'], ['quarter'], ['quarter'], ['quarter'], ['quarter'], ['quarter'], ['quarter'], ['quarter'], ['quarter'], ['quarter'], ['quarter'], ['quarter'], ['quarter'], ['quarter'], ['quarter'], ['quarter'], ['eighth'], ['eighth'], ['eighth'], ['quarter'], ['quarter'], ['quarter'], ['eighth'], ['eighth'], ['eighth'], ['quarter'], ['quarter'], ['eighth'], ['eighth'], ['eighth'], ['eighth'], ['eighth'], ['eighth'], ['half'], ['eighth'], ['eighth'], ['eighth'], ['eighth'], ['eighth'], ['half']]\n"
     ]
    }
   ],
   "source": [
    "# Define the mapping of durations to names\n",
    "duration_names = {0.5: 'eighth',1.0: 'quarter',1.5: 'half', 2.0: 'half', 4.0: 'whole'}\n",
    "\n",
    "# Given list 'p'\n",
    "p = durate\n",
    "\n",
    "# Convert 'p' to their names\n",
    "durate = [[duration_names[d] for d in sublist] for sublist in p]\n",
    "\n",
    "print(durate)\n"
   ]
  },
  {
   "cell_type": "code",
   "execution_count": 74,
   "metadata": {},
   "outputs": [
    {
     "name": "stdout",
     "output_type": "stream",
     "text": [
      "[['C4', 'E-4', 'A-2', 'A-3'], ['C4', 'C4', 'A-2', 'A-3'], ['C4', 'A-3'], ['E-4', 'C3'], ['E-4', 'A-4', 'A-2', 'C4'], ['E-4', 'A-4', 'C4', 'E-3'], ['E-3'], ['D-4', 'G4', 'B-3'], ['C4', 'A-4', 'F3', 'A-3'], ['F4', 'D-5', 'D-3', 'A-3'], ['A-3'], ['E-4', 'C5', 'E-3'], ['E-4', 'B-4', 'E-3', 'G3'], ['D-4', 'B-4', 'G3', 'A-2'], ['A-2'], ['C4', 'C5', 'A-3'], ['C4', 'E-4', 'A-2', 'E-3'], ['B-3', 'G4', 'G2', 'E-3'], ['G4', 'E-3'], ['C4', 'A-2'], ['D-4', 'E-4', 'B-2', 'E-3'], ['E-4', 'C4', 'A-3', 'A-2'], ['C4', 'A-2'], ['C5', 'E-3'], ['E-4', 'A-4', 'C3', 'A-3'], ['A-4', 'A-3'], ['F4', 'D-3'], ['A-4', 'E-4', 'C4', 'E-3'], ['E-4', 'E-3'], ['G4', 'B-3'], ['D-4', 'B-4', 'E-3', 'G3'], ['C4', 'A-4', 'A-3', 'A-3'], ['A-4', 'A-3'], ['E-4', 'C3'], ['D-4', 'G4', 'E-3', 'B-3'], ['C4', 'A-4', 'A-2', 'A-3'], ['A-4', 'A-3'], ['E-4', 'C3'], ['E-4', 'B-4', 'E-3', 'G3'], ['C5', 'E-4', 'A-3', 'A-3'], ['E-4'], ['D-5', 'G3', 'B-3', 'A-3'], ['E-4', 'C5', 'C4'], ['E-4', 'C5'], ['D-4'], ['A-4', 'C5', 'E-3', 'E-4'], ['E-3', 'E-4'], ['G4', 'B-4'], ['C5', 'E-4', 'C3', 'A-3'], ['E-4', 'C3', 'A-3'], ['A-4'], ['E-4', 'F4', 'A-3', 'D-3'], ['F4', 'D-3'], ['D-4', 'B-3'], ['D-4'], ['C4'], ['B-4', 'F4', 'B-2', 'D-4'], ['F4', 'B-2', 'D-4'], ['A-4'], ['E-4', 'G4', 'B-3', 'E-3'], ['E-3'], ['F4', 'F4', 'A-3'], ['E-4', 'G4', 'E-3', 'B-3'], ['G4', 'E-3', 'B-3'], ['D-4'], ['C4', 'A-4', 'A-2', 'A-3']]\n"
     ]
    }
   ],
   "source": [
    "data = t\n",
    "\n",
    "# Remove the second items in each element in the sublists\n",
    "modified_data = [[note.split()[0] for note in sublist] for sublist in data]\n",
    "\n",
    "print(modified_data)\n"
   ]
  },
  {
   "cell_type": "code",
   "execution_count": 64,
   "metadata": {},
   "outputs": [
    {
     "data": {
      "text/html": [
       "\n",
       "                <div id=\"midiPlayerDiv1673\"></div>\n",
       "                <link rel=\"stylesheet\" href=\"https://cuthbertLab.github.io/music21j/css/m21.css\">\n",
       "                \n",
       "                <script>\n",
       "                require.config({\n",
       "                    paths: {\n",
       "                        'music21': 'https://cuthbertLab.github.io/music21j/releases/music21.debug',\n",
       "                    }\n",
       "                });\n",
       "                require(['music21'], function(music21) {\n",
       "                    mp = new music21.miditools.MidiPlayer();\n",
       "                    mp.addPlayer(\"#midiPlayerDiv1673\");\n",
       "                    mp.base64Load(\"data:audio/midi;base64,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\");\n",
       "                });\n",
       "                </script>"
      ],
      "text/plain": [
       "<IPython.core.display.HTML object>"
      ]
     },
     "metadata": {},
     "output_type": "display_data"
    }
   ],
   "source": [
    "from music21 import stream, note, chord, midi\n",
    "\n",
    "# Define the chords as lists of note names\n",
    "chords = modified_data\n",
    "\n",
    "# chords=notes_and_rests_by_time\n",
    "# Create a stream to store the notes\n",
    "music_stream = stream.Stream()\n",
    "\n",
    "# Iterate through the chord lists and add them to the stream\n",
    "for chord_notes in chords:\n",
    "    chord_obj = chord.Chord(chord_notes)\n",
    "    music_stream.append(chord_obj)\n",
    "\n",
    "music_stream.show('midi')\n"
   ]
  },
  {
   "cell_type": "code",
   "execution_count": null,
   "metadata": {},
   "outputs": [],
   "source": []
  },
  {
   "cell_type": "code",
   "execution_count": null,
   "metadata": {},
   "outputs": [],
   "source": []
  },
  {
   "cell_type": "code",
   "execution_count": null,
   "metadata": {},
   "outputs": [],
   "source": [
    "from music21 import stream, chord, midi\n",
    "\n",
    "# Define the chords as lists of note names\n",
    "chords = modified_data\n",
    "\n",
    "# Create a stream to store the notes\n",
    "music_stream = stream.Stream()\n",
    "\n",
    "for i, j in zip(chords, durate):\n",
    "    # Create a chord object for the first chord (2.0 duration)\n",
    "    chord_0 = chord.Chord(i)\n",
    "    chord_0.duration.type = j  # Set the duration to 2.0 (2 half notes)\n",
    "    music_stream.append(chord_0)\n",
    "\n",
    "# Create a chord object for the second chord (0.5 duration)\n",
    "chord_1 = chord.Chord(chords[1])\n",
    "chord_1.duration.type = 'eighth'  # Set the duration to 0.5 (1 eighth note)\n",
    "music_stream.append(chord_1)\n",
    "\n",
    "# Create a chord object for the third chord (1.0 duration)\n",
    "chord_2 = chord.Chord(chords[2])\n",
    "chord_2.duration.type = 'quarter'  # Set the duration to 1.0 (1 quarter note)\n",
    "music_stream.append(chord_2)\n",
    "\n",
    "# # Create a MIDI file from the stream\n",
    "# midi_file = music_stream.write('midi')\n",
    "\n",
    "# # Create a StreamPlayer and play the MIDI file\n",
    "# player = midi.realtime.StreamPlayer(midi_file)\n",
    "# player.play()\n",
    "\n",
    "music_stream.show('midi')\n"
   ]
  },
  {
   "cell_type": "code",
   "execution_count": null,
   "metadata": {},
   "outputs": [],
   "source": []
  },
  {
   "cell_type": "code",
   "execution_count": null,
   "metadata": {},
   "outputs": [],
   "source": []
  },
  {
   "cell_type": "code",
   "execution_count": null,
   "metadata": {},
   "outputs": [],
   "source": []
  },
  {
   "cell_type": "code",
   "execution_count": 82,
   "metadata": {},
   "outputs": [
    {
     "name": "stdout",
     "output_type": "stream",
     "text": [
      "The second items are the same in all elements.\n"
     ]
    }
   ],
   "source": [
    "p = ['C4 1.0']\n",
    "\n",
    "# Extract the second items from each element\n",
    "second_items = [float(note.split()[1]) for note in p]\n",
    "\n",
    "# Check if all second items are the same\n",
    "is_same_duration = all(item == second_items[0] for item in second_items)\n",
    "\n",
    "if is_same_duration:\n",
    "    print(\"The second items are the same in all elements.\")\n",
    "else:\n",
    "    print(\"The second items are not the same in all elements.\")\n"
   ]
  },
  {
   "cell_type": "code",
   "execution_count": null,
   "metadata": {},
   "outputs": [],
   "source": []
  },
  {
   "cell_type": "code",
   "execution_count": 8,
   "metadata": {},
   "outputs": [
    {
     "name": "stdout",
     "output_type": "stream",
     "text": [
      "'a' is an empty list\n"
     ]
    }
   ],
   "source": [
    "a = []  # Example list\n",
    "\n",
    "if a:\n",
    "    pass  # This block will be executed if 'a' is not empty\n",
    "else:\n",
    "    # This block will be executed if 'a' is empty\n",
    "    print(\"'a' is an empty list\")\n"
   ]
  },
  {
   "cell_type": "code",
   "execution_count": null,
   "metadata": {},
   "outputs": [],
   "source": []
  },
  {
   "cell_type": "code",
   "execution_count": null,
   "metadata": {},
   "outputs": [],
   "source": []
  },
  {
   "cell_type": "code",
   "execution_count": 46,
   "metadata": {},
   "outputs": [
    {
     "data": {
      "text/plain": [
       "[['C4 1.0', 'C4 1.0', 'E-4 1.0']]"
      ]
     },
     "execution_count": 46,
     "metadata": {},
     "output_type": "execute_result"
    }
   ],
   "source": [
    "main"
   ]
  },
  {
   "cell_type": "code",
   "execution_count": 36,
   "metadata": {},
   "outputs": [
    {
     "name": "stdout",
     "output_type": "stream",
     "text": [
      "[['C4 0.0625', 'E-4 0.0625', 'A-2 0.0625', 'A-3 0.0625'], ['C4 0.0625', 'C4 0.0625', 'A-2 0.0625', 'A-3 0.0625'], ['E-4 0.0625', 'C3 0.0625'], ['E-4 0.0625', 'A-4 0.0625', 'Rest 0.0625', 'A-2 0.0625', 'C4 0.0625', 'Rest 0.0625'], ['E-4 0.0625', 'A-4 0.0625', 'C4 0.0625', 'E-3 0.0625'], ['D-4 0.0625', 'G4 0.0625', 'B-3 0.0625'], ['C4 0.0625', 'A-4 0.0625', 'F3 0.0625', 'A-3 0.0625', 'Rest 0.0625'], ['F4 0.0625', 'D-5 0.0625', 'D-3 0.0625', 'A-3 0.0625'], ['E-4 0.0625', 'C5 0.0625', 'E-3 0.0625'], ['E-4 0.0625', 'B-4 0.0625', 'E-3 0.0625', 'G3 0.0625', 'Rest 0.0625'], ['D-4 0.0625', 'B-4 0.0625', 'G3 0.0625', 'A-2 0.0625'], ['C4 0.0625', 'C5 0.0625', 'A-3 0.0625'], ['C4 0.0625', 'E-4 0.0625', 'A-2 0.0625', 'E-3 0.0625', 'Rest 0.0625'], ['B-3 0.0625', 'G4 0.0625', 'G2 0.0625', 'E-3 0.0625'], ['C4 0.0625', 'A-2 0.0625'], ['D-4 0.0625', 'E-4 0.0625', 'Rest 0.0625', 'B-2 0.0625', 'E-3 0.0625', 'Rest 0.0625'], ['E-4 0.0625', 'C4 0.0625', 'A-3 0.0625', 'A-2 0.0625'], ['C5 0.0625', 'E-3 0.0625'], ['E-4 0.0625', 'A-4 0.0625', 'C3 0.0625', 'A-3 0.0625'], ['F4 0.0625', 'D-3 0.0625'], ['A-4 0.0625', 'E-4 0.0625', 'C4 0.0625', 'E-3 0.0625'], ['G4 0.0625', 'B-3 0.0625'], ['D-4 0.0625', 'B-4 0.0625', 'Rest 0.0625', 'E-3 0.0625', 'G3 0.0625', 'Rest 0.0625'], ['C4 0.0625', 'A-4 0.0625', 'A-3 0.0625', 'A-3 0.0625'], ['E-4 0.0625', 'C3 0.0625'], ['D-4 0.0625', 'G4 0.0625', 'Rest 0.0625', 'E-3 0.0625', 'B-3 0.0625', 'Rest 0.0625'], ['C4 0.0625', 'A-4 0.0625', 'A-2 0.0625', 'A-3 0.0625'], ['E-4 0.0625', 'C3 0.0625'], ['E-4 0.0625', 'B-4 0.0625', 'Rest 0.0625', 'E-3 0.0625', 'G3 0.0625', 'Rest 0.0625'], ['C5 0.0625', 'E-4 0.0625', 'A-3 0.0625', 'A-3 0.0625'], ['D-5 0.0625', 'G3 0.0625', 'B-3 0.0625', 'A-3 0.0625'], ['E-4 0.0625', 'C5 0.0625', 'Rest 0.0625', 'C4 0.0625', 'Rest 0.0625'], ['D-4 0.0625'], ['A-4 0.0625', 'C5 0.0625', 'Rest 0.0625', 'Rest 0.0625', 'E-3 0.0625', 'E-4 0.0625'], ['G4 0.0625', 'B-4 0.0625'], ['C5 0.0625', 'E-4 0.0625', 'C3 0.0625', 'A-3 0.0625'], ['A-4 0.0625'], ['E-4 0.0625', 'F4 0.0625', 'A-3 0.0625', 'D-3 0.0625'], ['D-4 0.0625', 'B-3 0.0625'], ['C4 0.0625'], ['B-4 0.0625', 'F4 0.0625', 'B-2 0.0625', 'D-4 0.0625', 'Rest 0.0625'], ['A-4 0.0625'], ['E-4 0.0625', 'G4 0.0625', 'Rest 0.0625', 'Rest 0.0625', 'B-3 0.0625', 'E-3 0.0625'], ['F4 0.0625', 'F4 0.0625', 'A-3 0.0625'], ['E-4 0.0625', 'G4 0.0625', 'E-3 0.0625', 'B-3 0.0625', 'Rest 0.0625'], ['D-4 0.0625'], ['C4 0.0625', 'A-4 0.0625', 'A-2 0.0625', 'A-3 0.0625']]\n"
     ]
    }
   ],
   "source": [
    "print(notes_and_rests_by_time)"
   ]
  },
  {
   "cell_type": "code",
   "execution_count": null,
   "metadata": {},
   "outputs": [],
   "source": []
  },
  {
   "cell_type": "code",
   "execution_count": null,
   "metadata": {},
   "outputs": [],
   "source": []
  },
  {
   "cell_type": "code",
   "execution_count": null,
   "metadata": {},
   "outputs": [],
   "source": []
  },
  {
   "cell_type": "code",
   "execution_count": 25,
   "metadata": {},
   "outputs": [],
   "source": [
    "from music21 import chord, key, stream, meter, tempo\n",
    "import time\n",
    "\n",
    "# Create a new stream to store the chord and associated settings\n",
    "\n",
    "\n",
    "# Create a chord with the specified notes\n",
    "notes = notes_and_rests_by_time #['G4', 'B3', 'D3', 'G2']\n",
    "notes = modified_data\n",
    "# Time 0: Note: G 4  Duration: 2.0, Note: B 3  Duration: 2.0, Note: D 3  Duration: 2.0, Note: G 2  Duration: 2.0\n",
    "for i in notes_and_rests_by_time:\n",
    "        chord_stream = stream.Stream()\n",
    "        # print(f\"this is i: {i}\")\n",
    "        my_chord = chord.Chord(i)\n",
    "\n",
    "        # Set the key to E flat major\n",
    "        my_key = key.Key('G')\n",
    "        chord_stream.append(my_key)\n",
    "\n",
    "        # Add the chord to the stream\n",
    "        chord_stream.append(my_chord)\n",
    "\n",
    "        # Set the time signature to 4/4\n",
    "        chord_stream.append(meter.TimeSignature('3/4'))\n",
    "\n",
    "        # Set the tempo (adjust as needed)\n",
    "        chord_stream.append(tempo.MetronomeMark('Allegro'))\n",
    "\n",
    "        # Play the chord for three counts\n",
    "        chord_stream.duration.quarterLength = 3.0\n",
    "\n",
    "\n",
    "        # Show and play the chord\n",
    "        # chord_stream.show('midi')\n",
    "        # time.sleep(2)\n"
   ]
  },
  {
   "cell_type": "code",
   "execution_count": 58,
   "metadata": {},
   "outputs": [
    {
     "ename": "AccidentalException",
     "evalue": "- . is not a supported accidental type",
     "output_type": "error",
     "traceback": [
      "\u001b[1;31m---------------------------------------------------------------------------\u001b[0m",
      "\u001b[1;31mAccidentalException\u001b[0m                       Traceback (most recent call last)",
      "\u001b[1;32mc:\\Users\\KOFI ADUKPO\\Desktop\\code\\africa\\africaonline\\dvv.ipynb Cell 21\u001b[0m line \u001b[0;36m1\n\u001b[0;32m     <a href='vscode-notebook-cell:/c%3A/Users/KOFI%20ADUKPO/Desktop/code/africa/africaonline/dvv.ipynb#X21sZmlsZQ%3D%3D?line=9'>10</a>\u001b[0m \u001b[39m# Iterate through the chord lists and add them to the stream\u001b[39;00m\n\u001b[0;32m     <a href='vscode-notebook-cell:/c%3A/Users/KOFI%20ADUKPO/Desktop/code/africa/africaonline/dvv.ipynb#X21sZmlsZQ%3D%3D?line=10'>11</a>\u001b[0m \u001b[39mfor\u001b[39;00m chord_notes \u001b[39min\u001b[39;00m chords:\n\u001b[1;32m---> <a href='vscode-notebook-cell:/c%3A/Users/KOFI%20ADUKPO/Desktop/code/africa/africaonline/dvv.ipynb#X21sZmlsZQ%3D%3D?line=11'>12</a>\u001b[0m     chord_obj \u001b[39m=\u001b[39m chord\u001b[39m.\u001b[39;49mChord(chord_notes)\n\u001b[0;32m     <a href='vscode-notebook-cell:/c%3A/Users/KOFI%20ADUKPO/Desktop/code/africa/africaonline/dvv.ipynb#X21sZmlsZQ%3D%3D?line=12'>13</a>\u001b[0m     music_stream\u001b[39m.\u001b[39mappend(chord_obj)\n\u001b[0;32m     <a href='vscode-notebook-cell:/c%3A/Users/KOFI%20ADUKPO/Desktop/code/africa/africaonline/dvv.ipynb#X21sZmlsZQ%3D%3D?line=14'>15</a>\u001b[0m music_stream\u001b[39m.\u001b[39mshow(\u001b[39m'\u001b[39m\u001b[39mmidi\u001b[39m\u001b[39m'\u001b[39m)\n",
      "File \u001b[1;32mc:\\Users\\KOFI ADUKPO\\Desktop\\code\\tenv\\lib\\site-packages\\music21\\chord\\__init__.py:727\u001b[0m, in \u001b[0;36mChord.__init__\u001b[1;34m(self, notes, **keywords)\u001b[0m\n\u001b[0;32m    723\u001b[0m \u001b[39mif\u001b[39;00m notes \u001b[39mis\u001b[39;00m \u001b[39mnot\u001b[39;00m \u001b[39mNone\u001b[39;00m \u001b[39mand\u001b[39;00m \u001b[39many\u001b[39m(\u001b[39misinstance\u001b[39m(n, note\u001b[39m.\u001b[39mGeneralNote)\n\u001b[0;32m    724\u001b[0m                              \u001b[39mand\u001b[39;00m \u001b[39mnot\u001b[39;00m \u001b[39misinstance\u001b[39m(n, (note\u001b[39m.\u001b[39mNote, Chord))\n\u001b[0;32m    725\u001b[0m                              \u001b[39mfor\u001b[39;00m n \u001b[39min\u001b[39;00m notes):\n\u001b[0;32m    726\u001b[0m     \u001b[39mraise\u001b[39;00m \u001b[39mTypeError\u001b[39;00m(\u001b[39mf\u001b[39m\u001b[39m'\u001b[39m\u001b[39mUse a PercussionChord to contain Unpitched objects; got \u001b[39m\u001b[39m{\u001b[39;00mnotes\u001b[39m}\u001b[39;00m\u001b[39m'\u001b[39m)\n\u001b[1;32m--> 727\u001b[0m \u001b[39msuper\u001b[39m()\u001b[39m.\u001b[39m\u001b[39m__init__\u001b[39m(notes\u001b[39m=\u001b[39mnotes, \u001b[39m*\u001b[39m\u001b[39m*\u001b[39mkeywords)\n\u001b[0;32m    729\u001b[0m \u001b[39m# if there were a covariant list, we would use that instead.\u001b[39;00m\n\u001b[0;32m    730\u001b[0m \u001b[39mself\u001b[39m\u001b[39m.\u001b[39m_notes: t\u001b[39m.\u001b[39mList[note\u001b[39m.\u001b[39mNote]  \u001b[39m# type: ignore\u001b[39;00m\n",
      "File \u001b[1;32mc:\\Users\\KOFI ADUKPO\\Desktop\\code\\tenv\\lib\\site-packages\\music21\\chord\\__init__.py:116\u001b[0m, in \u001b[0;36mChordBase.__init__\u001b[1;34m(self, notes, **keywords)\u001b[0m\n\u001b[0;32m    113\u001b[0m \u001b[39mif\u001b[39;00m \u001b[39m'\u001b[39m\u001b[39mduration\u001b[39m\u001b[39m'\u001b[39m \u001b[39min\u001b[39;00m keywords:\n\u001b[0;32m    114\u001b[0m     durationKeyword \u001b[39m=\u001b[39m keywords[\u001b[39m'\u001b[39m\u001b[39mduration\u001b[39m\u001b[39m'\u001b[39m]\n\u001b[1;32m--> 116\u001b[0m durationKeyword \u001b[39m=\u001b[39m \u001b[39mself\u001b[39;49m\u001b[39m.\u001b[39;49m_add_core_or_init(notes, useDuration\u001b[39m=\u001b[39;49mdurationKeyword)\n\u001b[0;32m    118\u001b[0m \u001b[39mif\u001b[39;00m durationKeyword \u001b[39mis\u001b[39;00m \u001b[39mnot\u001b[39;00m \u001b[39mNone\u001b[39;00m:\n\u001b[0;32m    119\u001b[0m     \u001b[39mself\u001b[39m\u001b[39m.\u001b[39mduration \u001b[39m=\u001b[39m durationKeyword\n",
      "File \u001b[1;32mc:\\Users\\KOFI ADUKPO\\Desktop\\code\\tenv\\lib\\site-packages\\music21\\chord\\__init__.py:238\u001b[0m, in \u001b[0;36mChordBase._add_core_or_init\u001b[1;34m(self, notes, useDuration)\u001b[0m\n\u001b[0;32m    236\u001b[0m \u001b[39melif\u001b[39;00m \u001b[39misinstance\u001b[39m(n, (\u001b[39mstr\u001b[39m, \u001b[39mint\u001b[39m)):\n\u001b[0;32m    237\u001b[0m     \u001b[39mif\u001b[39;00m useDuration:\n\u001b[1;32m--> 238\u001b[0m         \u001b[39mself\u001b[39m\u001b[39m.\u001b[39m_notes\u001b[39m.\u001b[39mappend(note\u001b[39m.\u001b[39;49mNote(n, duration\u001b[39m=\u001b[39;49museDuration))\n\u001b[0;32m    239\u001b[0m     \u001b[39melse\u001b[39;00m:\n\u001b[0;32m    240\u001b[0m         \u001b[39mself\u001b[39m\u001b[39m.\u001b[39m_notes\u001b[39m.\u001b[39mappend(note\u001b[39m.\u001b[39mNote(n))\n",
      "File \u001b[1;32mc:\\Users\\KOFI ADUKPO\\Desktop\\code\\tenv\\lib\\site-packages\\music21\\note.py:1471\u001b[0m, in \u001b[0;36mNote.__init__\u001b[1;34m(self, pitch, name, nameWithOctave, **keywords)\u001b[0m\n\u001b[0;32m   1469\u001b[0m         \u001b[39mself\u001b[39m\u001b[39m.\u001b[39mpitch \u001b[39m=\u001b[39m pitch\n\u001b[0;32m   1470\u001b[0m     \u001b[39melse\u001b[39;00m:  \u001b[39m# assume first argument is pitch\u001b[39;00m\n\u001b[1;32m-> 1471\u001b[0m         \u001b[39mself\u001b[39m\u001b[39m.\u001b[39mpitch \u001b[39m=\u001b[39m Pitch(pitch, \u001b[39m*\u001b[39m\u001b[39m*\u001b[39mkeywords)\n\u001b[0;32m   1472\u001b[0m \u001b[39melse\u001b[39;00m:  \u001b[39m# supply a default pitch\u001b[39;00m\n\u001b[0;32m   1473\u001b[0m     \u001b[39mif\u001b[39;00m nameWithOctave \u001b[39mis\u001b[39;00m \u001b[39mnot\u001b[39;00m \u001b[39mNone\u001b[39;00m:\n",
      "File \u001b[1;32mc:\\Users\\KOFI ADUKPO\\Desktop\\code\\tenv\\lib\\site-packages\\music21\\pitch.py:1848\u001b[0m, in \u001b[0;36mPitch.__init__\u001b[1;34m(self, name, step, octave, accidental, microtone, pitchClass, midi, ps, fundamental, **keywords)\u001b[0m\n\u001b[0;32m   1846\u001b[0m \u001b[39mif\u001b[39;00m name \u001b[39mis\u001b[39;00m \u001b[39mnot\u001b[39;00m \u001b[39mNone\u001b[39;00m:\n\u001b[0;32m   1847\u001b[0m     \u001b[39mif\u001b[39;00m \u001b[39misinstance\u001b[39m(name, \u001b[39mstr\u001b[39m):\n\u001b[1;32m-> 1848\u001b[0m         \u001b[39mself\u001b[39;49m\u001b[39m.\u001b[39;49mname \u001b[39m=\u001b[39m name  \u001b[39m# set based on string\u001b[39;00m\n\u001b[0;32m   1849\u001b[0m     \u001b[39melse\u001b[39;00m:  \u001b[39m# is a number\u001b[39;00m\n\u001b[0;32m   1850\u001b[0m         \u001b[39m# is a midiNumber or a ps -- a float midiNumber\u001b[39;00m\n\u001b[0;32m   1851\u001b[0m         \u001b[39m# get step and accidental w/o octave\u001b[39;00m\n\u001b[0;32m   1852\u001b[0m         \u001b[39mself\u001b[39m\u001b[39m.\u001b[39mstep, \u001b[39mself\u001b[39m\u001b[39m.\u001b[39m_accidental \u001b[39m=\u001b[39m _convertPsToStep(name)[\u001b[39m0\u001b[39m:\u001b[39m2\u001b[39m]\n",
      "File \u001b[1;32mc:\\Users\\KOFI ADUKPO\\Desktop\\code\\tenv\\lib\\site-packages\\music21\\pitch.py:2680\u001b[0m, in \u001b[0;36mPitch.name\u001b[1;34m(self, usrStr)\u001b[0m\n\u001b[0;32m   2678\u001b[0m \u001b[39melif\u001b[39;00m \u001b[39mlen\u001b[39m(usrStr) \u001b[39m>\u001b[39m \u001b[39m1\u001b[39m:\n\u001b[0;32m   2679\u001b[0m     \u001b[39mself\u001b[39m\u001b[39m.\u001b[39mstep \u001b[39m=\u001b[39m usrStr[\u001b[39m0\u001b[39m]  \u001b[39m# type: ignore\u001b[39;00m\n\u001b[1;32m-> 2680\u001b[0m     \u001b[39mself\u001b[39m\u001b[39m.\u001b[39maccidental \u001b[39m=\u001b[39m Accidental(usrStr[\u001b[39m1\u001b[39;49m:])\n\u001b[0;32m   2681\u001b[0m \u001b[39melse\u001b[39;00m:\n\u001b[0;32m   2682\u001b[0m     \u001b[39mraise\u001b[39;00m PitchException(\u001b[39mf\u001b[39m\u001b[39m'\u001b[39m\u001b[39mCannot make a name out of \u001b[39m\u001b[39m{\u001b[39;00musrStr\u001b[39m!r}\u001b[39;00m\u001b[39m'\u001b[39m)\n",
      "File \u001b[1;32mc:\\Users\\KOFI ADUKPO\\Desktop\\code\\tenv\\lib\\site-packages\\music21\\pitch.py:906\u001b[0m, in \u001b[0;36mAccidental.__init__\u001b[1;34m(self, specifier)\u001b[0m\n\u001b[0;32m    904\u001b[0m \u001b[39mself\u001b[39m\u001b[39m.\u001b[39m_alter \u001b[39m=\u001b[39m \u001b[39m0.0\u001b[39m     \u001b[39m# semitones to alter step\u001b[39;00m\n\u001b[0;32m    905\u001b[0m \u001b[39m# potentially can be a fraction... but not exponent...\u001b[39;00m\n\u001b[1;32m--> 906\u001b[0m \u001b[39mself\u001b[39;49m\u001b[39m.\u001b[39;49mset(specifier)\n",
      "File \u001b[1;32mc:\\Users\\KOFI ADUKPO\\Desktop\\code\\tenv\\lib\\site-packages\\music21\\pitch.py:1170\u001b[0m, in \u001b[0;36mAccidental.set\u001b[1;34m(self, name, allowNonStandardValue)\u001b[0m\n\u001b[0;32m   1168\u001b[0m \u001b[39melse\u001b[39;00m:\n\u001b[0;32m   1169\u001b[0m     \u001b[39mif\u001b[39;00m \u001b[39mnot\u001b[39;00m allowNonStandardValue:\n\u001b[1;32m-> 1170\u001b[0m         \u001b[39mraise\u001b[39;00m AccidentalException(\u001b[39mf\u001b[39m\u001b[39m'\u001b[39m\u001b[39m{\u001b[39;00mname\u001b[39m}\u001b[39;00m\u001b[39m is not a supported accidental type\u001b[39m\u001b[39m'\u001b[39m)\n\u001b[0;32m   1172\u001b[0m     \u001b[39mif\u001b[39;00m \u001b[39misinstance\u001b[39m(name, \u001b[39mstr\u001b[39m):\n\u001b[0;32m   1173\u001b[0m         \u001b[39mself\u001b[39m\u001b[39m.\u001b[39m_name \u001b[39m=\u001b[39m name\n",
      "\u001b[1;31mAccidentalException\u001b[0m: - . is not a supported accidental type"
     ]
    }
   ],
   "source": [
    "from music21 import stream, note, chord, midi\n",
    "\n",
    "# Define the chords as lists of note names\n",
    "chords = modified_data\n",
    "\n",
    "# chords=notes_and_rests_by_time\n",
    "# Create a stream to store the notes\n",
    "music_stream = stream.Stream()\n",
    "\n",
    "# Iterate through the chord lists and add them to the stream\n",
    "for chord_notes in chords:\n",
    "    chord_obj = chord.Chord(chord_notes)\n",
    "    music_stream.append(chord_obj)\n",
    "\n",
    "music_stream.show('midi')\n"
   ]
  },
  {
   "cell_type": "code",
   "execution_count": 69,
   "metadata": {},
   "outputs": [
    {
     "data": {
      "text/html": [
       "\n",
       "                <div id=\"midiPlayerDiv1721\"></div>\n",
       "                <link rel=\"stylesheet\" href=\"https://cuthbertLab.github.io/music21j/css/m21.css\">\n",
       "                \n",
       "                <script>\n",
       "                require.config({\n",
       "                    paths: {\n",
       "                        'music21': 'https://cuthbertLab.github.io/music21j/releases/music21.debug',\n",
       "                    }\n",
       "                });\n",
       "                require(['music21'], function(music21) {\n",
       "                    mp = new music21.miditools.MidiPlayer();\n",
       "                    mp.addPlayer(\"#midiPlayerDiv1721\");\n",
       "                    mp.base64Load(\"data:audio/midi;base64,TVRoZAAAAAYAAQACBABNVHJrAAAAFAD/UQMHoSAA/1gEBAIYCIgA/y8ATVRyawAAAHEA/wMAAOAAQIgAkENaAJA7WgCQMloAkCtakACAQwAAgDsAAIAyAACAKwAAkENaAJA7WgCQMloAkCtahACAQwAAgDsAAIAyAACAKwAAkENaAJA7WgCQMloAkCtaiACAQwAAgDsAAIAyAACAKwCIAP8vAA==\");\n",
       "                });\n",
       "                </script>"
      ],
      "text/plain": [
       "<IPython.core.display.HTML object>"
      ]
     },
     "metadata": {},
     "output_type": "display_data"
    }
   ],
   "source": [
    "from music21 import stream, chord, midi\n",
    "\n",
    "# Define the chords as lists of note names\n",
    "chords = [['G4', 'B3', 'D3', 'G2'],\n",
    "          ['G4', 'B3', 'D3', 'G2'],\n",
    "          ['G4', 'B3', 'D3', 'G2']]\n",
    "\n",
    "# Create a stream to store the notes\n",
    "music_stream = stream.Stream()\n",
    "\n",
    "# Create a chord object for the first chord (2.0 duration)\n",
    "chord_0 = chord.Chord(chords[0])\n",
    "chord_0.duration.type = 'half'  # Set the duration to 2.0 (2 half notes)\n",
    "music_stream.append(chord_0)\n",
    "\n",
    "# Create a chord object for the second chord (0.5 duration)\n",
    "chord_1 = chord.Chord(chords[1])\n",
    "chord_1.duration.type = 'eighth'  # Set the duration to 0.5 (1 eighth note)\n",
    "music_stream.append(chord_1)\n",
    "\n",
    "# Create a chord object for the third chord (1.0 duration)\n",
    "chord_2 = chord.Chord(chords[2])\n",
    "chord_2.duration.type = 'quarter'  # Set the duration to 1.0 (1 quarter note)\n",
    "music_stream.append(chord_2)\n",
    "\n",
    "# # Create a MIDI file from the stream\n",
    "# midi_file = music_stream.write('midi')\n",
    "\n",
    "# # Create a StreamPlayer and play the MIDI file\n",
    "# player = midi.realtime.StreamPlayer(midi_file)\n",
    "# player.play()\n",
    "\n",
    "music_stream.show('midi')\n"
   ]
  },
  {
   "cell_type": "code",
   "execution_count": 70,
   "metadata": {},
   "outputs": [
    {
     "name": "stdout",
     "output_type": "stream",
     "text": [
      "[['quarter'], ['half'], ['whole']]\n"
     ]
    }
   ],
   "source": [
    "# Define the mapping of durations to names\n",
    "duration_names = {1.0: 'quarter', 2.0: 'half', 4.0: 'whole'}\n",
    "\n",
    "# Given list 'p'\n",
    "p = [[1.0], [2.0], [4.0]]\n",
    "\n",
    "# Convert 'p' to their names\n",
    "p_names = [[duration_names[d] for d in sublist] for sublist in p]\n",
    "\n",
    "print(p_names)\n"
   ]
  },
  {
   "cell_type": "markdown",
   "metadata": {},
   "source": []
  }
 ],
 "metadata": {
  "kernelspec": {
   "display_name": "tenv",
   "language": "python",
   "name": "python3"
  },
  "language_info": {
   "codemirror_mode": {
    "name": "ipython",
    "version": 3
   },
   "file_extension": ".py",
   "mimetype": "text/x-python",
   "name": "python",
   "nbconvert_exporter": "python",
   "pygments_lexer": "ipython3",
   "version": "3.9.13"
  },
  "orig_nbformat": 4
 },
 "nbformat": 4,
 "nbformat_minor": 2
}
