{
 "cells": [
  {
   "cell_type": "code",
   "execution_count": 440,
   "metadata": {},
   "outputs": [],
   "source": [
    "# import all necessary libraries\n",
    "import pandas as pd\n",
    "import matplotlib.pyplot as plt\n",
    "import seaborn as sns\n",
    "import missingno as msno\n",
    "import numpy as np\n",
    "from sklearn.model_selection import train_test_split\n",
    "from sklearn.neighbors import KNeighborsClassifier\n",
    "from sklearn.model_selection import train_test_split\n",
    "from sklearn.preprocessing import StandardScaler\n",
    "from sklearn.metrics import accuracy_score\n",
    "from sklearn.preprocessing import LabelEncoder\n",
    "\n"
   ]
  },
  {
   "cell_type": "code",
   "execution_count": 443,
   "metadata": {},
   "outputs": [],
   "source": [
    "# Read the Excel file\n",
    "df = pd.read_csv('C:\\\\Users\\\\KOFI ADUKPO\\\\Downloads\\\\Streamline_Delivery_Service.csv')\n",
    "\n"
   ]
  },
  {
   "cell_type": "code",
   "execution_count": 444,
   "metadata": {},
   "outputs": [
    {
     "name": "stdout",
     "output_type": "stream",
     "text": [
      "(7043, 17)\n",
      "['customerID', 'gender', 'senior', 'family_plan', 'Dependents', 'customer_since', 'contact_preference', 'fraud_protection', 'order_backup', 'tech_support', 'streaming_movies', 'contract_type', 'paperless', 'payment_type', 'monthly_bill', 'total_billed', 'complaint']\n"
     ]
    }
   ],
   "source": [
    "#check for the shape of data.\n",
    "print(df.shape)\n",
    "print(list(df.columns))"
   ]
  },
  {
   "cell_type": "code",
   "execution_count": 445,
   "metadata": {},
   "outputs": [
    {
     "name": "stdout",
     "output_type": "stream",
     "text": [
      "<class 'pandas.core.frame.DataFrame'>\n",
      "RangeIndex: 7043 entries, 0 to 7042\n",
      "Data columns (total 17 columns):\n",
      " #   Column              Non-Null Count  Dtype  \n",
      "---  ------              --------------  -----  \n",
      " 0   customerID          7043 non-null   object \n",
      " 1   gender              7043 non-null   object \n",
      " 2   senior              7043 non-null   int64  \n",
      " 3   family_plan         7043 non-null   object \n",
      " 4   Dependents          7043 non-null   object \n",
      " 5   customer_since      7043 non-null   int64  \n",
      " 6   contact_preference  7043 non-null   object \n",
      " 7   fraud_protection    7043 non-null   object \n",
      " 8   order_backup        7043 non-null   object \n",
      " 9   tech_support        7043 non-null   object \n",
      " 10  streaming_movies    7043 non-null   object \n",
      " 11  contract_type       7043 non-null   object \n",
      " 12  paperless           7043 non-null   object \n",
      " 13  payment_type        7043 non-null   object \n",
      " 14  monthly_bill        7043 non-null   float64\n",
      " 15  total_billed        7043 non-null   object \n",
      " 16  complaint           7043 non-null   object \n",
      "dtypes: float64(1), int64(2), object(14)\n",
      "memory usage: 935.5+ KB\n"
     ]
    }
   ],
   "source": [
    "# check for column information\n",
    "df.info()"
   ]
  },
  {
   "cell_type": "code",
   "execution_count": 446,
   "metadata": {},
   "outputs": [
    {
     "name": "stdout",
     "output_type": "stream",
     "text": [
      "Value counts for customerID:\n",
      "0002-ORFBO    1\n",
      "6616-AALSR    1\n",
      "6625-UTXEW    1\n",
      "6625-IUTTT    1\n",
      "6625-FLENO    1\n",
      "             ..\n",
      "3352-RICWQ    1\n",
      "3352-ALMCK    1\n",
      "3351-NQLDI    1\n",
      "3351-NGXYI    1\n",
      "9995-HOTOH    1\n",
      "Name: customerID, Length: 7043, dtype: int64\n",
      "\n",
      "Value counts for gender:\n",
      "Male      3555\n",
      "Female    3488\n",
      "Name: gender, dtype: int64\n",
      "\n",
      "Value counts for senior:\n",
      "0    5901\n",
      "1    1142\n",
      "Name: senior, dtype: int64\n",
      "\n",
      "Value counts for family_plan:\n",
      "No     3641\n",
      "Yes    3402\n",
      "Name: family_plan, dtype: int64\n",
      "\n",
      "Value counts for Dependents:\n",
      "No     4933\n",
      "Yes    2110\n",
      "Name: Dependents, dtype: int64\n",
      "\n",
      "Value counts for customer_since:\n",
      "1     613\n",
      "72    362\n",
      "2     238\n",
      "3     200\n",
      "4     176\n",
      "     ... \n",
      "28     57\n",
      "39     56\n",
      "44     51\n",
      "36     50\n",
      "0      11\n",
      "Name: customer_since, Length: 73, dtype: int64\n",
      "\n",
      "Value counts for contact_preference:\n",
      "Mobile    3096\n",
      "Phone     2421\n",
      "Email     1526\n",
      "Name: contact_preference, dtype: int64\n",
      "\n",
      "Value counts for fraud_protection:\n",
      "No     5024\n",
      "Yes    2019\n",
      "Name: fraud_protection, dtype: int64\n",
      "\n",
      "Value counts for order_backup:\n",
      "No     4614\n",
      "Yes    2429\n",
      "Name: order_backup, dtype: int64\n",
      "\n",
      "Value counts for tech_support:\n",
      "No     4999\n",
      "Yes    2044\n",
      "Name: tech_support, dtype: int64\n",
      "\n",
      "Value counts for streaming_movies:\n",
      "No     4311\n",
      "Yes    2732\n",
      "Name: streaming_movies, dtype: int64\n",
      "\n",
      "Value counts for contract_type:\n",
      "Month-to-month    3875\n",
      "Two year          1695\n",
      "One year          1473\n",
      "Name: contract_type, dtype: int64\n",
      "\n",
      "Value counts for paperless:\n",
      "Yes    4171\n",
      "No     2872\n",
      "Name: paperless, dtype: int64\n",
      "\n",
      "Value counts for payment_type:\n",
      "Credit card (automatic)      5499\n",
      "Bank transfer (automatic)    1544\n",
      "Name: payment_type, dtype: int64\n",
      "\n",
      "Value counts for monthly_bill:\n",
      "20.05     61\n",
      "19.85     45\n",
      "19.95     44\n",
      "19.90     44\n",
      "20.00     43\n",
      "          ..\n",
      "116.55     1\n",
      "106.85     1\n",
      "68.55      1\n",
      "108.80     1\n",
      "67.85      1\n",
      "Name: monthly_bill, Length: 1585, dtype: int64\n",
      "\n",
      "Value counts for total_billed:\n",
      "           11\n",
      "20.2       11\n",
      "19.75       9\n",
      "19.9        8\n",
      "20.05       8\n",
      "           ..\n",
      "2387.75     1\n",
      "6302.8      1\n",
      "2058.5      1\n",
      "829.55      1\n",
      "3707.6      1\n",
      "Name: total_billed, Length: 6531, dtype: int64\n",
      "\n",
      "Value counts for complaint:\n",
      "No     5174\n",
      "Yes    1869\n",
      "Name: complaint, dtype: int64\n",
      "\n"
     ]
    }
   ],
   "source": [
    "# Obtaining unique value counts for each column\n",
    "for column in df.columns:\n",
    "    counts = df[column].value_counts()\n",
    "    print(f\"Value counts for {column}:\")\n",
    "    print(counts)\n",
    "    print()"
   ]
  },
  {
   "cell_type": "code",
   "execution_count": 447,
   "metadata": {},
   "outputs": [
    {
     "data": {
      "text/plain": [
       "customerID            0\n",
       "gender                0\n",
       "senior                0\n",
       "family_plan           0\n",
       "Dependents            0\n",
       "customer_since        0\n",
       "contact_preference    0\n",
       "fraud_protection      0\n",
       "order_backup          0\n",
       "tech_support          0\n",
       "streaming_movies      0\n",
       "contract_type         0\n",
       "paperless             0\n",
       "payment_type          0\n",
       "monthly_bill          0\n",
       "total_billed          0\n",
       "complaint             0\n",
       "dtype: int64"
      ]
     },
     "execution_count": 447,
     "metadata": {},
     "output_type": "execute_result"
    }
   ],
   "source": [
    "# checking for missing values\n",
    "df.isnull().sum()"
   ]
  },
  {
   "cell_type": "code",
   "execution_count": 448,
   "metadata": {},
   "outputs": [],
   "source": [
    "msno.bar(df)\n",
    "plt.title('Missing Data Percentage')\n",
    "plt.show()"
   ]
  },
  {
   "cell_type": "code",
   "execution_count": 449,
   "metadata": {},
   "outputs": [
    {
     "name": "stderr",
     "output_type": "stream",
     "text": [
      "c:\\Users\\KOFI ADUKPO\\Desktop\\code\\tenv\\lib\\site-packages\\seaborn\\matrix.py:309: UserWarning: Attempting to set identical low and high xlims makes transformation singular; automatically expanding.\n",
      "  ax.set(xlim=(0, self.data.shape[1]), ylim=(0, self.data.shape[0]))\n",
      "c:\\Users\\KOFI ADUKPO\\Desktop\\code\\tenv\\lib\\site-packages\\seaborn\\matrix.py:309: UserWarning: Attempting to set identical low and high ylims makes transformation singular; automatically expanding.\n",
      "  ax.set(xlim=(0, self.data.shape[1]), ylim=(0, self.data.shape[0]))\n"
     ]
    }
   ],
   "source": [
    "# Generate the missing value heatmap using msno.heatmap()\n",
    "msno.heatmap(df)\n",
    "\n",
    "# Display the heatmap\n",
    "plt.show()"
   ]
  },
  {
   "cell_type": "code",
   "execution_count": 407,
   "metadata": {},
   "outputs": [
    {
     "data": {
      "text/plain": [
       "0       False\n",
       "1       False\n",
       "2       False\n",
       "3       False\n",
       "4       False\n",
       "        ...  \n",
       "7038    False\n",
       "7039    False\n",
       "7040    False\n",
       "7041    False\n",
       "7042    False\n",
       "Length: 7043, dtype: bool"
      ]
     },
     "execution_count": 407,
     "metadata": {},
     "output_type": "execute_result"
    }
   ],
   "source": [
    "# checking for duplicate\n",
    "df.duplicated()"
   ]
  },
  {
   "cell_type": "code",
   "execution_count": 408,
   "metadata": {},
   "outputs": [],
   "source": [
    "categorical_columns = df.select_dtypes(include=['object', 'category'])"
   ]
  },
  {
   "cell_type": "code",
   "execution_count": 409,
   "metadata": {},
   "outputs": [
    {
     "data": {
      "text/plain": [
       "(7043, 14)"
      ]
     },
     "execution_count": 409,
     "metadata": {},
     "output_type": "execute_result"
    }
   ],
   "source": [
    "categorical_columns.shape"
   ]
  },
  {
   "cell_type": "code",
   "execution_count": 410,
   "metadata": {},
   "outputs": [],
   "source": [
    "continues_columns = df.select_dtypes(include=['float', 'int64'])"
   ]
  },
  {
   "cell_type": "code",
   "execution_count": 411,
   "metadata": {},
   "outputs": [
    {
     "data": {
      "text/plain": [
       "Index(['senior', 'customer_since', 'monthly_bill'], dtype='object')"
      ]
     },
     "execution_count": 411,
     "metadata": {},
     "output_type": "execute_result"
    }
   ],
   "source": [
    "continues_columns.columns\n"
   ]
  },
  {
   "cell_type": "code",
   "execution_count": 413,
   "metadata": {},
   "outputs": [
    {
     "data": {
      "text/plain": [
       "count    7043.000000\n",
       "mean       32.371149\n",
       "std        24.559481\n",
       "min         0.000000\n",
       "25%         9.000000\n",
       "50%        29.000000\n",
       "75%        55.000000\n",
       "max        72.000000\n",
       "Name: customer_since, dtype: float64"
      ]
     },
     "execution_count": 413,
     "metadata": {},
     "output_type": "execute_result"
    }
   ],
   "source": [
    "df['customer_since'].describe()"
   ]
  },
  {
   "cell_type": "code",
   "execution_count": 371,
   "metadata": {},
   "outputs": [
    {
     "data": {
      "text/plain": [
       "0    5901\n",
       "1    1142\n",
       "Name: senior, dtype: int64"
      ]
     },
     "execution_count": 371,
     "metadata": {},
     "output_type": "execute_result"
    }
   ],
   "source": [
    "df['senior'].value_counts()"
   ]
  },
  {
   "cell_type": "code",
   "execution_count": 372,
   "metadata": {},
   "outputs": [
    {
     "data": {
      "image/png": "[encoded data removed]",
      "text/plain": [
       "<Figure size 640x480 with 1 Axes>"
      ]
     },
     "metadata": {},
     "output_type": "display_data"
    }
   ],
   "source": [
    "# Create a box plot\n",
    "plt.boxplot(df['monthly_bill'])\n",
    "plt.title('Box Plot of monthly_bill')\n",
    "plt.ylabel('Values')\n",
    "plt.show()"
   ]
  },
  {
   "cell_type": "code",
   "execution_count": 373,
   "metadata": {},
   "outputs": [
    {
     "data": {
      "image/png": "[encoded data removed]",
      "text/plain": [
       "<Figure size 640x480 with 1 Axes>"
      ]
     },
     "metadata": {},
     "output_type": "display_data"
    }
   ],
   "source": [
    "# Create a box plot for customer_since\n",
    "plt.boxplot(df['customer_since'])\n",
    "plt.title('Box Plot of customer_since')\n",
    "plt.ylabel('Values')\n",
    "plt.show()"
   ]
  },
  {
   "cell_type": "code",
   "execution_count": 374,
   "metadata": {},
   "outputs": [
    {
     "data": {
      "text/plain": [
       "0       65.60\n",
       "1       59.90\n",
       "2       73.90\n",
       "3       98.00\n",
       "4       83.90\n",
       "        ...  \n",
       "7038    55.15\n",
       "7039    85.10\n",
       "7040    50.30\n",
       "7041    67.85\n",
       "7042    59.00\n",
       "Name: monthly_bill, Length: 7043, dtype: float64"
      ]
     },
     "execution_count": 374,
     "metadata": {},
     "output_type": "execute_result"
    }
   ],
   "source": [
    "continues_columns['monthly_bill']"
   ]
  },
  {
   "cell_type": "code",
   "execution_count": 375,
   "metadata": {},
   "outputs": [],
   "source": [
    "continues_columns['monthly_bill'] = np.log(continues_columns['monthly_bill'])"
   ]
  },
  {
   "cell_type": "code",
   "execution_count": 376,
   "metadata": {},
   "outputs": [
    {
     "data": {
      "text/plain": [
       "0       4.183576\n",
       "1       4.092677\n",
       "2       4.302713\n",
       "3       4.584967\n",
       "4       4.429626\n",
       "          ...   \n",
       "7038    4.010057\n",
       "7039    4.443827\n",
       "7040    3.918005\n",
       "7041    4.217299\n",
       "7042    4.077537\n",
       "Name: monthly_bill, Length: 7043, dtype: float64"
      ]
     },
     "execution_count": 376,
     "metadata": {},
     "output_type": "execute_result"
    }
   ],
   "source": [
    "continues_columns['monthly_bill']"
   ]
  },
  {
   "cell_type": "code",
   "execution_count": 377,
   "metadata": {},
   "outputs": [
    {
     "data": {
      "image/png": "[encoded data removed]",
      "text/plain": [
       "<Figure size 640x480 with 1 Axes>"
      ]
     },
     "metadata": {},
     "output_type": "display_data"
    }
   ],
   "source": [
    "# Create a box plot\n",
    "plt.boxplot(continues_columns['monthly_bill'])\n",
    "plt.title('Box Plot of monthly_bill')\n",
    "plt.ylabel('Values')\n",
    "plt.show()"
   ]
  },
  {
   "cell_type": "code",
   "execution_count": 378,
   "metadata": {},
   "outputs": [
    {
     "data": {
      "image/png": "[encoded data removed]",
      "text/plain": [
       "<Figure size 640x480 with 1 Axes>"
      ]
     },
     "metadata": {},
     "output_type": "display_data"
    }
   ],
   "source": [
    "# Count the number of samples in each class\n",
    "class_counts = df['gender'].value_counts()\n",
    "\n",
    "# Plot the class distribution\n",
    "class_counts.plot(kind='bar')\n",
    "plt.xlabel('Gender')\n",
    "plt.ylabel('Count')\n",
    "plt.title('Class Distribution')\n",
    "plt.show()"
   ]
  },
  {
   "cell_type": "code",
   "execution_count": 379,
   "metadata": {},
   "outputs": [],
   "source": [
    "bins = [0, 24, 48, 72]\n",
    "labels = ['long', 'longer', 'longest']\n",
    "# keep copy of original df\n",
    "df_1 = df.copy()\n",
    "\n",
    "# Group integer columns into categories\n",
    "df['customer_since'] = pd.cut(df['customer_since'], bins=bins, labels=labels)"
   ]
  },
  {
   "cell_type": "code",
   "execution_count": 380,
   "metadata": {},
   "outputs": [
    {
     "data": {
      "text/plain": [
       "count     7043\n",
       "unique    6531\n",
       "top           \n",
       "freq        11\n",
       "Name: total_billed, dtype: object"
      ]
     },
     "execution_count": 380,
     "metadata": {},
     "output_type": "execute_result"
    }
   ],
   "source": [
    "df['total_billed'].describe()"
   ]
  },
  {
   "cell_type": "code",
   "execution_count": 381,
   "metadata": {},
   "outputs": [],
   "source": [
    "# dropping rows with empty string cells in 'total_billed'\n",
    "df = df[df['total_billed'] != ' ']"
   ]
  },
  {
   "cell_type": "code",
   "execution_count": 382,
   "metadata": {},
   "outputs": [],
   "source": [
    "df['total_billed'] = df['total_billed'].astype(float)\n",
    "df['gender'] = df['gender'].astype(object)"
   ]
  },
  {
   "cell_type": "code",
   "execution_count": 383,
   "metadata": {},
   "outputs": [
    {
     "data": {
      "text/plain": [
       "count    7032.000000\n",
       "mean     2283.300441\n",
       "std      2266.771362\n",
       "min        18.800000\n",
       "25%       401.450000\n",
       "50%      1397.475000\n",
       "75%      3794.737500\n",
       "max      8684.800000\n",
       "Name: total_billed, dtype: float64"
      ]
     },
     "execution_count": 383,
     "metadata": {},
     "output_type": "execute_result"
    }
   ],
   "source": [
    "df['total_billed'].describe()"
   ]
  },
  {
   "cell_type": "code",
   "execution_count": 384,
   "metadata": {},
   "outputs": [],
   "source": [
    "bins = [18, 52, 86, 120]\n",
    "labels = ['high', 'higher', 'highest']\n",
    "df['monthly_bill'] = pd.cut(df['monthly_bill'], bins=bins, labels=labels)"
   ]
  },
  {
   "cell_type": "code",
   "execution_count": 385,
   "metadata": {},
   "outputs": [],
   "source": [
    "bins = [18, 2907, 5796, 8685]\n",
    "labels = ['high', 'higher', 'highest']\n",
    "df['total_billed'] = pd.cut(df['total_billed'], bins=bins, labels=labels)"
   ]
  },
  {
   "cell_type": "code",
   "execution_count": 386,
   "metadata": {},
   "outputs": [
    {
     "data": {
      "text/plain": [
       "Index(['customerID', 'gender', 'family_plan', 'Dependents', 'customer_since',\n",
       "       'contact_preference', 'fraud_protection', 'order_backup',\n",
       "       'tech_support', 'streaming_movies', 'contract_type', 'paperless',\n",
       "       'payment_type', 'monthly_bill', 'total_billed', 'complaint'],\n",
       "      dtype='object')"
      ]
     },
     "execution_count": 386,
     "metadata": {},
     "output_type": "execute_result"
    }
   ],
   "source": [
    "(df.select_dtypes(include=['object', 'category'])).columns"
   ]
  },
  {
   "cell_type": "code",
   "execution_count": 387,
   "metadata": {},
   "outputs": [],
   "source": [
    "# convert column type to object\n",
    "df['senior'] = df['senior'].astype(object)"
   ]
  },
  {
   "cell_type": "code",
   "execution_count": 388,
   "metadata": {},
   "outputs": [
    {
     "data": {
      "text/plain": [
       "(7032, 17)"
      ]
     },
     "execution_count": 388,
     "metadata": {},
     "output_type": "execute_result"
    }
   ],
   "source": [
    "(df.select_dtypes(include=['object', 'category'])).shape"
   ]
  },
  {
   "cell_type": "code",
   "execution_count": 389,
   "metadata": {},
   "outputs": [],
   "source": [
    "# Initialize LabelEncoder\n",
    "le = LabelEncoder()\n",
    "\n",
    "# Apply label encoding to each column\n",
    "for column in df.columns:\n",
    "    df[column] = le.fit_transform(df[column])"
   ]
  },
  {
   "cell_type": "code",
   "execution_count": 390,
   "metadata": {},
   "outputs": [
    {
     "data": {
      "text/html": [
       "<div>\n",
       "<style scoped>\n",
       "    .dataframe tbody tr th:only-of-type {\n",
       "        vertical-align: middle;\n",
       "    }\n",
       "\n",
       "    .dataframe tbody tr th {\n",
       "        vertical-align: top;\n",
       "    }\n",
       "\n",
       "    .dataframe thead th {\n",
       "        text-align: right;\n",
       "    }\n",
       "</style>\n",
       "<table border=\"1\" class=\"dataframe\">\n",
       "  <thead>\n",
       "    <tr style=\"text-align: right;\">\n",
       "      <th></th>\n",
       "      <th>customerID</th>\n",
       "      <th>gender</th>\n",
       "      <th>senior</th>\n",
       "      <th>family_plan</th>\n",
       "      <th>Dependents</th>\n",
       "      <th>customer_since</th>\n",
       "      <th>contact_preference</th>\n",
       "      <th>fraud_protection</th>\n",
       "      <th>order_backup</th>\n",
       "      <th>tech_support</th>\n",
       "      <th>streaming_movies</th>\n",
       "      <th>contract_type</th>\n",
       "      <th>paperless</th>\n",
       "      <th>payment_type</th>\n",
       "      <th>monthly_bill</th>\n",
       "      <th>total_billed</th>\n",
       "      <th>complaint</th>\n",
       "    </tr>\n",
       "  </thead>\n",
       "  <tbody>\n",
       "    <tr>\n",
       "      <th>0</th>\n",
       "      <td>0</td>\n",
       "      <td>0</td>\n",
       "      <td>0</td>\n",
       "      <td>1</td>\n",
       "      <td>1</td>\n",
       "      <td>0</td>\n",
       "      <td>2</td>\n",
       "      <td>0</td>\n",
       "      <td>1</td>\n",
       "      <td>1</td>\n",
       "      <td>0</td>\n",
       "      <td>1</td>\n",
       "      <td>1</td>\n",
       "      <td>1</td>\n",
       "      <td>1</td>\n",
       "      <td>0</td>\n",
       "      <td>0</td>\n",
       "    </tr>\n",
       "    <tr>\n",
       "      <th>1</th>\n",
       "      <td>1</td>\n",
       "      <td>1</td>\n",
       "      <td>0</td>\n",
       "      <td>0</td>\n",
       "      <td>0</td>\n",
       "      <td>0</td>\n",
       "      <td>2</td>\n",
       "      <td>0</td>\n",
       "      <td>0</td>\n",
       "      <td>0</td>\n",
       "      <td>1</td>\n",
       "      <td>0</td>\n",
       "      <td>0</td>\n",
       "      <td>1</td>\n",
       "      <td>1</td>\n",
       "      <td>0</td>\n",
       "      <td>0</td>\n",
       "    </tr>\n",
       "    <tr>\n",
       "      <th>2</th>\n",
       "      <td>2</td>\n",
       "      <td>1</td>\n",
       "      <td>0</td>\n",
       "      <td>0</td>\n",
       "      <td>0</td>\n",
       "      <td>0</td>\n",
       "      <td>1</td>\n",
       "      <td>0</td>\n",
       "      <td>0</td>\n",
       "      <td>0</td>\n",
       "      <td>0</td>\n",
       "      <td>0</td>\n",
       "      <td>1</td>\n",
       "      <td>1</td>\n",
       "      <td>1</td>\n",
       "      <td>0</td>\n",
       "      <td>1</td>\n",
       "    </tr>\n",
       "    <tr>\n",
       "      <th>3</th>\n",
       "      <td>3</td>\n",
       "      <td>1</td>\n",
       "      <td>1</td>\n",
       "      <td>1</td>\n",
       "      <td>0</td>\n",
       "      <td>0</td>\n",
       "      <td>1</td>\n",
       "      <td>0</td>\n",
       "      <td>1</td>\n",
       "      <td>0</td>\n",
       "      <td>1</td>\n",
       "      <td>0</td>\n",
       "      <td>1</td>\n",
       "      <td>1</td>\n",
       "      <td>2</td>\n",
       "      <td>0</td>\n",
       "      <td>1</td>\n",
       "    </tr>\n",
       "    <tr>\n",
       "      <th>4</th>\n",
       "      <td>4</td>\n",
       "      <td>0</td>\n",
       "      <td>1</td>\n",
       "      <td>1</td>\n",
       "      <td>0</td>\n",
       "      <td>0</td>\n",
       "      <td>1</td>\n",
       "      <td>0</td>\n",
       "      <td>0</td>\n",
       "      <td>1</td>\n",
       "      <td>0</td>\n",
       "      <td>0</td>\n",
       "      <td>1</td>\n",
       "      <td>1</td>\n",
       "      <td>1</td>\n",
       "      <td>0</td>\n",
       "      <td>1</td>\n",
       "    </tr>\n",
       "    <tr>\n",
       "      <th>...</th>\n",
       "      <td>...</td>\n",
       "      <td>...</td>\n",
       "      <td>...</td>\n",
       "      <td>...</td>\n",
       "      <td>...</td>\n",
       "      <td>...</td>\n",
       "      <td>...</td>\n",
       "      <td>...</td>\n",
       "      <td>...</td>\n",
       "      <td>...</td>\n",
       "      <td>...</td>\n",
       "      <td>...</td>\n",
       "      <td>...</td>\n",
       "      <td>...</td>\n",
       "      <td>...</td>\n",
       "      <td>...</td>\n",
       "      <td>...</td>\n",
       "    </tr>\n",
       "    <tr>\n",
       "      <th>7038</th>\n",
       "      <td>7027</td>\n",
       "      <td>0</td>\n",
       "      <td>0</td>\n",
       "      <td>0</td>\n",
       "      <td>0</td>\n",
       "      <td>0</td>\n",
       "      <td>2</td>\n",
       "      <td>1</td>\n",
       "      <td>0</td>\n",
       "      <td>1</td>\n",
       "      <td>0</td>\n",
       "      <td>1</td>\n",
       "      <td>0</td>\n",
       "      <td>1</td>\n",
       "      <td>1</td>\n",
       "      <td>0</td>\n",
       "      <td>0</td>\n",
       "    </tr>\n",
       "    <tr>\n",
       "      <th>7039</th>\n",
       "      <td>7028</td>\n",
       "      <td>1</td>\n",
       "      <td>0</td>\n",
       "      <td>1</td>\n",
       "      <td>0</td>\n",
       "      <td>0</td>\n",
       "      <td>1</td>\n",
       "      <td>0</td>\n",
       "      <td>0</td>\n",
       "      <td>0</td>\n",
       "      <td>1</td>\n",
       "      <td>0</td>\n",
       "      <td>1</td>\n",
       "      <td>1</td>\n",
       "      <td>1</td>\n",
       "      <td>0</td>\n",
       "      <td>1</td>\n",
       "    </tr>\n",
       "    <tr>\n",
       "      <th>7040</th>\n",
       "      <td>7029</td>\n",
       "      <td>1</td>\n",
       "      <td>0</td>\n",
       "      <td>0</td>\n",
       "      <td>0</td>\n",
       "      <td>0</td>\n",
       "      <td>2</td>\n",
       "      <td>0</td>\n",
       "      <td>1</td>\n",
       "      <td>0</td>\n",
       "      <td>0</td>\n",
       "      <td>0</td>\n",
       "      <td>1</td>\n",
       "      <td>1</td>\n",
       "      <td>0</td>\n",
       "      <td>0</td>\n",
       "      <td>0</td>\n",
       "    </tr>\n",
       "    <tr>\n",
       "      <th>7041</th>\n",
       "      <td>7030</td>\n",
       "      <td>1</td>\n",
       "      <td>0</td>\n",
       "      <td>1</td>\n",
       "      <td>1</td>\n",
       "      <td>2</td>\n",
       "      <td>2</td>\n",
       "      <td>1</td>\n",
       "      <td>0</td>\n",
       "      <td>1</td>\n",
       "      <td>1</td>\n",
       "      <td>2</td>\n",
       "      <td>0</td>\n",
       "      <td>1</td>\n",
       "      <td>1</td>\n",
       "      <td>1</td>\n",
       "      <td>0</td>\n",
       "    </tr>\n",
       "    <tr>\n",
       "      <th>7042</th>\n",
       "      <td>7031</td>\n",
       "      <td>1</td>\n",
       "      <td>0</td>\n",
       "      <td>1</td>\n",
       "      <td>1</td>\n",
       "      <td>2</td>\n",
       "      <td>2</td>\n",
       "      <td>1</td>\n",
       "      <td>1</td>\n",
       "      <td>0</td>\n",
       "      <td>1</td>\n",
       "      <td>2</td>\n",
       "      <td>0</td>\n",
       "      <td>1</td>\n",
       "      <td>1</td>\n",
       "      <td>1</td>\n",
       "      <td>0</td>\n",
       "    </tr>\n",
       "  </tbody>\n",
       "</table>\n",
       "<p>7032 rows × 17 columns</p>\n",
       "</div>"
      ],
      "text/plain": [
       "      customerID  gender  senior  family_plan  Dependents  customer_since  \\\n",
       "0              0       0       0            1           1               0   \n",
       "1              1       1       0            0           0               0   \n",
       "2              2       1       0            0           0               0   \n",
       "3              3       1       1            1           0               0   \n",
       "4              4       0       1            1           0               0   \n",
       "...          ...     ...     ...          ...         ...             ...   \n",
       "7038        7027       0       0            0           0               0   \n",
       "7039        7028       1       0            1           0               0   \n",
       "7040        7029       1       0            0           0               0   \n",
       "7041        7030       1       0            1           1               2   \n",
       "7042        7031       1       0            1           1               2   \n",
       "\n",
       "      contact_preference  fraud_protection  order_backup  tech_support  \\\n",
       "0                      2                 0             1             1   \n",
       "1                      2                 0             0             0   \n",
       "2                      1                 0             0             0   \n",
       "3                      1                 0             1             0   \n",
       "4                      1                 0             0             1   \n",
       "...                  ...               ...           ...           ...   \n",
       "7038                   2                 1             0             1   \n",
       "7039                   1                 0             0             0   \n",
       "7040                   2                 0             1             0   \n",
       "7041                   2                 1             0             1   \n",
       "7042                   2                 1             1             0   \n",
       "\n",
       "      streaming_movies  contract_type  paperless  payment_type  monthly_bill  \\\n",
       "0                    0              1          1             1             1   \n",
       "1                    1              0          0             1             1   \n",
       "2                    0              0          1             1             1   \n",
       "3                    1              0          1             1             2   \n",
       "4                    0              0          1             1             1   \n",
       "...                ...            ...        ...           ...           ...   \n",
       "7038                 0              1          0             1             1   \n",
       "7039                 1              0          1             1             1   \n",
       "7040                 0              0          1             1             0   \n",
       "7041                 1              2          0             1             1   \n",
       "7042                 1              2          0             1             1   \n",
       "\n",
       "      total_billed  complaint  \n",
       "0                0          0  \n",
       "1                0          0  \n",
       "2                0          1  \n",
       "3                0          1  \n",
       "4                0          1  \n",
       "...            ...        ...  \n",
       "7038             0          0  \n",
       "7039             0          1  \n",
       "7040             0          0  \n",
       "7041             1          0  \n",
       "7042             1          0  \n",
       "\n",
       "[7032 rows x 17 columns]"
      ]
     },
     "execution_count": 390,
     "metadata": {},
     "output_type": "execute_result"
    }
   ],
   "source": [
    "df"
   ]
  },
  {
   "cell_type": "code",
   "execution_count": 391,
   "metadata": {},
   "outputs": [],
   "source": [
    "# Extract the feature columns (X) and target column (y)\n",
    "X = df.drop(columns=['complaint','customerID'])\n",
    "y = df['complaint']"
   ]
  },
  {
   "cell_type": "code",
   "execution_count": 392,
   "metadata": {},
   "outputs": [],
   "source": [
    "# Split the dataset into training and testing sets\n",
    "X_train, X_test, y_train, y_test = train_test_split(X, y, test_size=0.2, random_state=42)"
   ]
  },
  {
   "cell_type": "code",
   "execution_count": 393,
   "metadata": {},
   "outputs": [
    {
     "name": "stdout",
     "output_type": "stream",
     "text": [
      "X_train shape: (5625, 15)\n",
      "X_test shape: (1407, 15)\n",
      "y_train shape: (5625,)\n",
      "y_test shape: (1407,)\n"
     ]
    }
   ],
   "source": [
    "# Print the shapes of the training and testing sets\n",
    "print(\"X_train shape:\", X_train.shape)\n",
    "print(\"X_test shape:\", X_test.shape)\n",
    "print(\"y_train shape:\", y_train.shape)\n",
    "print(\"y_test shape:\", y_test.shape)"
   ]
  },
  {
   "cell_type": "code",
   "execution_count": 394,
   "metadata": {},
   "outputs": [
    {
     "data": {
      "text/plain": [
       "Index(['gender', 'senior', 'family_plan', 'Dependents', 'customer_since',\n",
       "       'contact_preference', 'fraud_protection', 'order_backup',\n",
       "       'tech_support', 'streaming_movies', 'contract_type', 'paperless',\n",
       "       'payment_type', 'monthly_bill', 'total_billed'],\n",
       "      dtype='object')"
      ]
     },
     "execution_count": 394,
     "metadata": {},
     "output_type": "execute_result"
    }
   ],
   "source": [
    "X.columns"
   ]
  },
  {
   "cell_type": "code",
   "execution_count": 395,
   "metadata": {},
   "outputs": [],
   "source": [
    "k = 5  # Number of neighbors to consider\n",
    "knn = KNeighborsClassifier(n_neighbors=k)\n"
   ]
  },
  {
   "cell_type": "code",
   "execution_count": 396,
   "metadata": {},
   "outputs": [
    {
     "data": {
      "text/plain": [
       "Index(['gender', 'senior', 'family_plan', 'Dependents', 'customer_since',\n",
       "       'contact_preference', 'fraud_protection', 'order_backup',\n",
       "       'tech_support', 'streaming_movies', 'contract_type', 'paperless',\n",
       "       'payment_type', 'monthly_bill', 'total_billed'],\n",
       "      dtype='object')"
      ]
     },
     "execution_count": 396,
     "metadata": {},
     "output_type": "execute_result"
    }
   ],
   "source": [
    "X_train.columns"
   ]
  },
  {
   "cell_type": "code",
   "execution_count": 397,
   "metadata": {},
   "outputs": [
    {
     "data": {
      "text/html": [
       "<style>#sk-container-id-3 {color: black;background-color: white;}#sk-container-id-3 pre{padding: 0;}#sk-container-id-3 div.sk-toggleable {background-color: white;}#sk-container-id-3 label.sk-toggleable__label {cursor: pointer;display: block;width: 100%;margin-bottom: 0;padding: 0.3em;box-sizing: border-box;text-align: center;}#sk-container-id-3 label.sk-toggleable__label-arrow:before {content: \"▸\";float: left;margin-right: 0.25em;color: #696969;}#sk-container-id-3 label.sk-toggleable__label-arrow:hover:before {color: black;}#sk-container-id-3 div.sk-estimator:hover label.sk-toggleable__label-arrow:before {color: black;}#sk-container-id-3 div.sk-toggleable__content {max-height: 0;max-width: 0;overflow: hidden;text-align: left;background-color: #f0f8ff;}#sk-container-id-3 div.sk-toggleable__content pre {margin: 0.2em;color: black;border-radius: 0.25em;background-color: #f0f8ff;}#sk-container-id-3 input.sk-toggleable__control:checked~div.sk-toggleable__content {max-height: 200px;max-width: 100%;overflow: auto;}#sk-container-id-3 input.sk-toggleable__control:checked~label.sk-toggleable__label-arrow:before {content: \"▾\";}#sk-container-id-3 div.sk-estimator input.sk-toggleable__control:checked~label.sk-toggleable__label {background-color: #d4ebff;}#sk-container-id-3 div.sk-label input.sk-toggleable__control:checked~label.sk-toggleable__label {background-color: #d4ebff;}#sk-container-id-3 input.sk-hidden--visually {border: 0;clip: rect(1px 1px 1px 1px);clip: rect(1px, 1px, 1px, 1px);height: 1px;margin: -1px;overflow: hidden;padding: 0;position: absolute;width: 1px;}#sk-container-id-3 div.sk-estimator {font-family: monospace;background-color: #f0f8ff;border: 1px dotted black;border-radius: 0.25em;box-sizing: border-box;margin-bottom: 0.5em;}#sk-container-id-3 div.sk-estimator:hover {background-color: #d4ebff;}#sk-container-id-3 div.sk-parallel-item::after {content: \"\";width: 100%;border-bottom: 1px solid gray;flex-grow: 1;}#sk-container-id-3 div.sk-label:hover label.sk-toggleable__label {background-color: #d4ebff;}#sk-container-id-3 div.sk-serial::before {content: \"\";position: absolute;border-left: 1px solid gray;box-sizing: border-box;top: 0;bottom: 0;left: 50%;z-index: 0;}#sk-container-id-3 div.sk-serial {display: flex;flex-direction: column;align-items: center;background-color: white;padding-right: 0.2em;padding-left: 0.2em;position: relative;}#sk-container-id-3 div.sk-item {position: relative;z-index: 1;}#sk-container-id-3 div.sk-parallel {display: flex;align-items: stretch;justify-content: center;background-color: white;position: relative;}#sk-container-id-3 div.sk-item::before, #sk-container-id-3 div.sk-parallel-item::before {content: \"\";position: absolute;border-left: 1px solid gray;box-sizing: border-box;top: 0;bottom: 0;left: 50%;z-index: -1;}#sk-container-id-3 div.sk-parallel-item {display: flex;flex-direction: column;z-index: 1;position: relative;background-color: white;}#sk-container-id-3 div.sk-parallel-item:first-child::after {align-self: flex-end;width: 50%;}#sk-container-id-3 div.sk-parallel-item:last-child::after {align-self: flex-start;width: 50%;}#sk-container-id-3 div.sk-parallel-item:only-child::after {width: 0;}#sk-container-id-3 div.sk-dashed-wrapped {border: 1px dashed gray;margin: 0 0.4em 0.5em 0.4em;box-sizing: border-box;padding-bottom: 0.4em;background-color: white;}#sk-container-id-3 div.sk-label label {font-family: monospace;font-weight: bold;display: inline-block;line-height: 1.2em;}#sk-container-id-3 div.sk-label-container {text-align: center;}#sk-container-id-3 div.sk-container {/* jupyter's `normalize.less` sets `[hidden] { display: none; }` but bootstrap.min.css set `[hidden] { display: none !important; }` so we also need the `!important` here to be able to override the default hidden behavior on the sphinx rendered scikit-learn.org. See: https://github.com/scikit-learn/scikit-learn/issues/21755 */display: inline-block !important;position: relative;}#sk-container-id-3 div.sk-text-repr-fallback {display: none;}</style><div id=\"sk-container-id-3\" class=\"sk-top-container\"><div class=\"sk-text-repr-fallback\"><pre>KNeighborsClassifier()</pre><b>In a Jupyter environment, please rerun this cell to show the HTML representation or trust the notebook. <br />On GitHub, the HTML representation is unable to render, please try loading this page with nbviewer.org.</b></div><div class=\"sk-container\" hidden><div class=\"sk-item\"><div class=\"sk-estimator sk-toggleable\"><input class=\"sk-toggleable__control sk-hidden--visually\" id=\"sk-estimator-id-3\" type=\"checkbox\" checked><label for=\"sk-estimator-id-3\" class=\"sk-toggleable__label sk-toggleable__label-arrow\">KNeighborsClassifier</label><div class=\"sk-toggleable__content\"><pre>KNeighborsClassifier()</pre></div></div></div></div></div>"
      ],
      "text/plain": [
       "KNeighborsClassifier()"
      ]
     },
     "execution_count": 397,
     "metadata": {},
     "output_type": "execute_result"
    }
   ],
   "source": [
    "# train madel\n",
    "knn.fit(X_train, y_train)\n"
   ]
  },
  {
   "cell_type": "code",
   "execution_count": null,
   "metadata": {},
   "outputs": [],
   "source": []
  },
  {
   "cell_type": "code",
   "execution_count": 398,
   "metadata": {},
   "outputs": [],
   "source": [
    "# make predictions\n",
    "y_pred = knn.predict(X_test)\n"
   ]
  },
  {
   "cell_type": "code",
   "execution_count": 399,
   "metadata": {},
   "outputs": [
    {
     "name": "stdout",
     "output_type": "stream",
     "text": [
      "Accuracy: 0.7583511016346838\n"
     ]
    }
   ],
   "source": [
    "# evaluate model\n",
    "accuracy = accuracy_score(y_test, y_pred)\n",
    "print(\"Accuracy:\", accuracy)"
   ]
  },
  {
   "cell_type": "code",
   "execution_count": 432,
   "metadata": {},
   "outputs": [],
   "source": [
    "from docx import Document\n",
    "doc = Document()"
   ]
  },
  {
   "cell_type": "code",
   "execution_count": 437,
   "metadata": {},
   "outputs": [
    {
     "data": {
      "text/plain": [
       "<docx.text.paragraph.Paragraph at 0x2a29c4eeee0>"
      ]
     },
     "execution_count": 437,
     "metadata": {},
     "output_type": "execute_result"
    }
   ],
   "source": [
    "code = \"\"\"\n",
    "# import all necessary libraries\n",
    "import pandas as pd\n",
    "import matplotlib.pyplot as plt\n",
    "import seaborn as sns\n",
    "import missingno as msno\n",
    "import numpy as np\n",
    "from sklearn.model_selection import train_test_split\n",
    "from sklearn.neighbors import KNeighborsClassifier\n",
    "from sklearn.model_selection import train_test_split\n",
    "from sklearn.preprocessing import StandardScaler\n",
    "from sklearn.metrics import accuracy_score\n",
    "from sklearn.preprocessing import LabelEncoder\n",
    "\n",
    "# Read the Excel file\n",
    "df = pd.read_csv('C:\\\\Users\\\\KOFI ADUKPO\\\\Downloads\\\\Streamline_Delivery_Service.csv')\n",
    "\n",
    "#check for the shape of data.\n",
    "df.shape\n",
    "(7043, 17)\n",
    "\n",
    "# check for column information\n",
    "df.info()\n",
    "<class 'pandas.core.frame.DataFrame'>\n",
    "RangeIndex: 7043 entries, 0 to 7042\n",
    "Data columns (total 17 columns):\n",
    " #   Column              Non-Null Count  Dtype  \n",
    "---  ------              --------------  -----  \n",
    " 0   customerID          7043 non-null   object \n",
    " 1   gender              7043 non-null   object \n",
    " 2   senior              7043 non-null   int64  \n",
    " 3   family_plan         7043 non-null   object \n",
    " 4   Dependents          7043 non-null   object \n",
    " 5   customer_since      7043 non-null   int64  \n",
    " 6   contact_preference  7043 non-null   object \n",
    " 7   fraud_protection    7043 non-null   object \n",
    " 8   order_backup        7043 non-null   object \n",
    " 9   tech_support        7043 non-null   object \n",
    " 10  streaming_movies    7043 non-null   object \n",
    " 11  contract_type       7043 non-null   object \n",
    " 12  paperless           7043 non-null   object \n",
    " 13  payment_type        7043 non-null   object \n",
    " 14  monthly_bill        7043 non-null   float64\n",
    " 15  total_billed        7043 non-null   object \n",
    " 16  complaint           7043 non-null   object \n",
    "dtypes: float64(1), int64(2), object(14)\n",
    "memory usage: 935.5+ KB\n",
    "\n",
    "# Obtaining unique value counts for each column\n",
    "for column in df.columns:\n",
    "    counts = df[column].value_counts()\n",
    "    print(f\"Value counts for {column}:\")\n",
    "    print(counts)\n",
    "    print()\n",
    "Value counts for customerID:\n",
    "0002-ORFBO    1\n",
    "6616-AALSR    1\n",
    "6625-UTXEW    1\n",
    "6625-IUTTT    1\n",
    "6625-FLENO    1\n",
    "             ..\n",
    "3352-RICWQ    1\n",
    "3352-ALMCK    1\n",
    "3351-NQLDI    1\n",
    "3351-NGXYI    1\n",
    "9995-HOTOH    1\n",
    "Name: customerID, Length: 7043, dtype: int64\n",
    "\n",
    "Value counts for gender:\n",
    "Male      3555\n",
    "Female    3488\n",
    "Name: gender, dtype: int64\n",
    "\n",
    "Value counts for senior:\n",
    "0    5901\n",
    "1    1142\n",
    "Name: senior, dtype: int64\n",
    "\n",
    "Value counts for family_plan:\n",
    "No     3641\n",
    "Yes    3402\n",
    "Name: family_plan, dtype: int64\n",
    "\n",
    "Value counts for Dependents:\n",
    "No     4933\n",
    "Yes    2110\n",
    "Name: Dependents, dtype: int64\n",
    "\n",
    "Value counts for customer_since:\n",
    "1     613\n",
    "72    362\n",
    "2     238\n",
    "3     200\n",
    "4     176\n",
    "     ... \n",
    "28     57\n",
    "39     56\n",
    "44     51\n",
    "36     50\n",
    "0      11\n",
    "Name: customer_since, Length: 73, dtype: int64\n",
    "\n",
    "Value counts for contact_preference:\n",
    "Mobile    3096\n",
    "Phone     2421\n",
    "Email     1526\n",
    "Name: contact_preference, dtype: int64\n",
    "\n",
    "Value counts for fraud_protection:\n",
    "No     5024\n",
    "Yes    2019\n",
    "Name: fraud_protection, dtype: int64\n",
    "\n",
    "Value counts for order_backup:\n",
    "No     4614\n",
    "Yes    2429\n",
    "Name: order_backup, dtype: int64\n",
    "\n",
    "Value counts for tech_support:\n",
    "No     4999\n",
    "Yes    2044\n",
    "Name: tech_support, dtype: int64\n",
    "\n",
    "Value counts for streaming_movies:\n",
    "No     4311\n",
    "Yes    2732\n",
    "Name: streaming_movies, dtype: int64\n",
    "\n",
    "Value counts for contract_type:\n",
    "Month-to-month    3875\n",
    "Two year          1695\n",
    "One year          1473\n",
    "Name: contract_type, dtype: int64\n",
    "\n",
    "Value counts for paperless:\n",
    "Yes    4171\n",
    "No     2872\n",
    "Name: paperless, dtype: int64\n",
    "\n",
    "Value counts for payment_type:\n",
    "Credit card (automatic)      5499\n",
    "Bank transfer (automatic)    1544\n",
    "Name: payment_type, dtype: int64\n",
    "\n",
    "Value counts for monthly_bill:\n",
    "20.05     61\n",
    "19.85     45\n",
    "19.95     44\n",
    "19.90     44\n",
    "20.00     43\n",
    "          ..\n",
    "116.55     1\n",
    "106.85     1\n",
    "68.55      1\n",
    "108.80     1\n",
    "67.85      1\n",
    "Name: monthly_bill, Length: 1585, dtype: int64\n",
    "\n",
    "Value counts for total_billed:\n",
    "           11\n",
    "20.2       11\n",
    "19.75       9\n",
    "19.9        8\n",
    "20.05       8\n",
    "           ..\n",
    "2387.75     1\n",
    "6302.8      1\n",
    "2058.5      1\n",
    "829.55      1\n",
    "3707.6      1\n",
    "Name: total_billed, Length: 6531, dtype: int64\n",
    "\n",
    "Value counts for complaint:\n",
    "No     5174\n",
    "Yes    1869\n",
    "Name: complaint, dtype: int64\n",
    "\n",
    "# checking for missing values\n",
    "df.isnull().sum()\n",
    "customerID            0\n",
    "gender                0\n",
    "senior                0\n",
    "family_plan           0\n",
    "Dependents            0\n",
    "customer_since        0\n",
    "contact_preference    0\n",
    "fraud_protection      0\n",
    "order_backup          0\n",
    "tech_support          0\n",
    "streaming_movies      0\n",
    "contract_type         0\n",
    "paperless             0\n",
    "payment_type          0\n",
    "monthly_bill          0\n",
    "total_billed          0\n",
    "complaint             0\n",
    "dtype: int64\n",
    "\n",
    "msno.bar(df)\n",
    "plt.title('Missing Data Percentage')\n",
    "plt.show()\n",
    "\n",
    "# checking for duplicate\n",
    "df.duplicated()\n",
    "0       False\n",
    "1       False\n",
    "2       False\n",
    "3       False\n",
    "4       False\n",
    "        ...  \n",
    "7038    False\n",
    "7039    False\n",
    "7040    False\n",
    "7041    False\n",
    "7042    False\n",
    "Length: 7043, dtype: bool\n",
    "\n",
    "# Create a box plot for monthly bill\n",
    "plt.boxplot(df['monthly_bill'])\n",
    "plt.title('Box Plot of monthly_bill')\n",
    "plt.ylabel('Values')\n",
    "plt.show()\n",
    "\n",
    "# Create a box plot for customer_since\n",
    "plt.boxplot(df['customer_since'])\n",
    "plt.title('Box Plot of customer_since')\n",
    "plt.ylabel('Values')\n",
    "plt.show()\n",
    "\n",
    "\n",
    "# Plot the class distribution\n",
    "class_counts.plot(kind='bar')\n",
    "plt.xlabel('Gender')\n",
    "plt.ylabel('Count')\n",
    "plt.title('Class Distribution')\n",
    "plt.show()\n",
    "\n",
    "# dropping rows with empty string cells in 'total_billed'\n",
    "df = df[df['total_billed'] != ' ']\n",
    "\n",
    "bins = [0, 24, 48, 72]\n",
    "labels = ['long', 'longer', 'longest']\n",
    "# keep copy of original df\n",
    "df_1 = df.copy()\n",
    "\n",
    "# Group integer columns into categories\n",
    "df['customer_since'] = pd.cut(df['customer_since'], bins=bins, labels=labels)\n",
    "\n",
    "bins = [18, 52, 86, 120]\n",
    "labels = ['high', 'higher', 'highest']\n",
    "df['monthly_bill'] = pd.cut(df['monthly_bill'], bins=bins, labels=labels)\n",
    "\n",
    "bins = [18, 2907, 5796, 8685]\n",
    "labels = ['high', 'higher', 'highest']\n",
    "df['total_billed'] = pd.cut(df['total_billed'], bins=bins, labels=labels)\n",
    "\n",
    "# convert column type to object\n",
    "df['senior'] = df['senior'].astype(object)\n",
    "\n",
    "# Extract the feature columns (X) and target column (y)\n",
    "X = df.drop(columns=['complaint','customerID'])\n",
    "y = df['complaint']\n",
    "\n",
    "# Split the dataset into training and testing sets\n",
    "X_train, X_test, y_train, y_test = train_test_split(X, y, test_size=0.2, random_state=42)\n",
    "\n",
    "# Print the shapes of the training and testing sets\n",
    "print(\"X_train shape:\", X_train.shape)\n",
    "print(\"X_test shape:\", X_test.shape)\n",
    "print(\"y_train shape:\", y_train.shape)\n",
    "print(\"y_test shape:\", y_test.shape)\n",
    "X_train shape: (5625, 15)\n",
    "X_test shape: (1407, 15)\n",
    "y_train shape: (5625,)\n",
    "y_test shape: (1407,)\n",
    "\n",
    "k = 5  # Number of neighbors to consider\n",
    "knn = KNeighborsClassifier(n_neighbors=k)\n",
    "\n",
    "# train madel\n",
    "knn.fit(X_train, y_train)\n",
    "\n",
    "# make predictions\n",
    "y_pred = knn.predict(X_test)\n",
    "\n",
    "# evaluate model\n",
    "accuracy = accuracy_score(y_test, y_pred)\n",
    "print(\"Accuracy:\", accuracy)\n",
    "Accuracy: 0.7583511016346838\n",
    "\n",
    "\n",
    "\"\"\"\n",
    "doc.add_paragraph(code)\n"
   ]
  },
  {
   "cell_type": "code",
   "execution_count": 439,
   "metadata": {},
   "outputs": [],
   "source": [
    "doc.save('davwork.docx')\n"
   ]
  },
  {
   "cell_type": "code",
   "execution_count": null,
   "metadata": {},
   "outputs": [],
   "source": []
  },
  {
   "cell_type": "code",
   "execution_count": 1,
   "metadata": {},
   "outputs": [],
   "source": [
    "import numpy as np\n",
    "import pandas as pd"
   ]
  },
  {
   "cell_type": "code",
   "execution_count": 2,
   "metadata": {},
   "outputs": [],
   "source": [
    "ti =\"her as sower\""
   ]
  },
  {
   "cell_type": "code",
   "execution_count": 7,
   "metadata": {},
   "outputs": [
    {
     "ename": "SyntaxError",
     "evalue": "EOL while scanning string literal (2366242294.py, line 1)",
     "output_type": "error",
     "traceback": [
      "\u001b[1;36m  Cell \u001b[1;32mIn[7], line 1\u001b[1;36m\u001b[0m\n\u001b[1;33m    original_string = \"//Aya\u001b[0m\n\u001b[1;37m                            ^\u001b[0m\n\u001b[1;31mSyntaxError\u001b[0m\u001b[1;31m:\u001b[0m EOL while scanning string literal\n"
     ]
    }
   ],
   "source": [
    "original_string = \"thr\"\n",
    "replacements = {\n",
    "    \"sample\": \"new\",\n",
    "    \"multiple\": \"different\",\n",
    "    \"words\": \"terms\"\n",
    "}\n",
    "\n",
    "# Replace each word in the dictionary with its corresponding replacement\n",
    "for word, replacement in replacements.items():\n",
    "    original_string = original_string.replace(word, replacement)\n",
    "\n",
    "print(original_string)"
   ]
  },
  {
   "cell_type": "code",
   "execution_count": 5,
   "metadata": {},
   "outputs": [
    {
     "data": {
      "text/plain": [
       "'Hello, world! This is a new sentence.'"
      ]
     },
     "execution_count": 5,
     "metadata": {},
     "output_type": "execute_result"
    }
   ],
   "source": []
  },
  {
   "cell_type": "code",
   "execution_count": null,
   "metadata": {},
   "outputs": [],
   "source": []
  }
 ],
 "metadata": {
  "kernelspec": {
   "display_name": "tenv",
   "language": "python",
   "name": "python3"
  },
  "language_info": {
   "codemirror_mode": {
    "name": "ipython",
    "version": 3
   },
   "file_extension": ".py",
   "mimetype": "text/x-python",
   "name": "python",
   "nbconvert_exporter": "python",
   "pygments_lexer": "ipython3",
   "version": "3.9.13"
  },
  "orig_nbformat": 4
 },
 "nbformat": 4,
 "nbformat_minor": 2
}
